{
 "cells": [
  {
   "cell_type": "code",
   "execution_count": 90,
   "id": "7f1d0c75",
   "metadata": {},
   "outputs": [],
   "source": [
    "import pandas as pd\n",
    "import numpy as np\n",
    "import matplotlib.pyplot as plt\n",
    "import seaborn as sns"
   ]
  },
  {
   "cell_type": "code",
   "execution_count": 91,
   "id": "2b07bfcd",
   "metadata": {},
   "outputs": [],
   "source": [
    "df = pd.read_excel(r\"C:\\Users\\Michela\\Desktop\\microdati_2019.xlsx\")"
   ]
  },
  {
   "cell_type": "code",
   "execution_count": 3,
   "id": "5ea11df8",
   "metadata": {},
   "outputs": [
    {
     "data": {
      "text/html": [
       "<div>\n",
       "<style scoped>\n",
       "    .dataframe tbody tr th:only-of-type {\n",
       "        vertical-align: middle;\n",
       "    }\n",
       "\n",
       "    .dataframe tbody tr th {\n",
       "        vertical-align: top;\n",
       "    }\n",
       "\n",
       "    .dataframe thead th {\n",
       "        text-align: right;\n",
       "    }\n",
       "</style>\n",
       "<table border=\"1\" class=\"dataframe\">\n",
       "  <thead>\n",
       "    <tr style=\"text-align: right;\">\n",
       "      <th></th>\n",
       "      <th>REG</th>\n",
       "      <th>RIP5</th>\n",
       "      <th>RIP3</th>\n",
       "      <th>SG11</th>\n",
       "      <th>SG16</th>\n",
       "      <th>C59</th>\n",
       "      <th>C59AB</th>\n",
       "      <th>C73</th>\n",
       "      <th>C74</th>\n",
       "      <th>CLETAS</th>\n",
       "      <th>COND3</th>\n",
       "      <th>COND10</th>\n",
       "      <th>POSPRO</th>\n",
       "      <th>DETIND</th>\n",
       "      <th>PIEPAR</th>\n",
       "      <th>LAVSPE</th>\n",
       "      <th>EDULEV</th>\n",
       "      <th>I1</th>\n",
       "      <th>COEFMI</th>\n",
       "    </tr>\n",
       "  </thead>\n",
       "  <tbody>\n",
       "    <tr>\n",
       "      <th>0</th>\n",
       "      <td>19</td>\n",
       "      <td>5</td>\n",
       "      <td>3</td>\n",
       "      <td>2</td>\n",
       "      <td>1</td>\n",
       "      <td></td>\n",
       "      <td></td>\n",
       "      <td></td>\n",
       "      <td></td>\n",
       "      <td>17</td>\n",
       "      <td>3</td>\n",
       "      <td>10</td>\n",
       "      <td></td>\n",
       "      <td></td>\n",
       "      <td></td>\n",
       "      <td></td>\n",
       "      <td>6</td>\n",
       "      <td>6</td>\n",
       "      <td>2506</td>\n",
       "    </tr>\n",
       "    <tr>\n",
       "      <th>1</th>\n",
       "      <td>7</td>\n",
       "      <td>1</td>\n",
       "      <td>1</td>\n",
       "      <td>2</td>\n",
       "      <td>1</td>\n",
       "      <td>2</td>\n",
       "      <td>1</td>\n",
       "      <td>7</td>\n",
       "      <td>8</td>\n",
       "      <td>13</td>\n",
       "      <td>1</td>\n",
       "      <td>1</td>\n",
       "      <td>3</td>\n",
       "      <td>2</td>\n",
       "      <td>1</td>\n",
       "      <td>2</td>\n",
       "      <td>5</td>\n",
       "      <td>1</td>\n",
       "      <td>2814</td>\n",
       "    </tr>\n",
       "    <tr>\n",
       "      <th>2</th>\n",
       "      <td>7</td>\n",
       "      <td>1</td>\n",
       "      <td>1</td>\n",
       "      <td>1</td>\n",
       "      <td>1</td>\n",
       "      <td></td>\n",
       "      <td></td>\n",
       "      <td></td>\n",
       "      <td></td>\n",
       "      <td>14</td>\n",
       "      <td>3</td>\n",
       "      <td>8</td>\n",
       "      <td></td>\n",
       "      <td></td>\n",
       "      <td></td>\n",
       "      <td></td>\n",
       "      <td>3</td>\n",
       "      <td>6</td>\n",
       "      <td>2814</td>\n",
       "    </tr>\n",
       "    <tr>\n",
       "      <th>3</th>\n",
       "      <td>4</td>\n",
       "      <td>2</td>\n",
       "      <td>1</td>\n",
       "      <td>1</td>\n",
       "      <td>1</td>\n",
       "      <td></td>\n",
       "      <td></td>\n",
       "      <td></td>\n",
       "      <td></td>\n",
       "      <td>16</td>\n",
       "      <td>3</td>\n",
       "      <td>10</td>\n",
       "      <td></td>\n",
       "      <td></td>\n",
       "      <td></td>\n",
       "      <td></td>\n",
       "      <td>4</td>\n",
       "      <td>6</td>\n",
       "      <td>944</td>\n",
       "    </tr>\n",
       "    <tr>\n",
       "      <th>4</th>\n",
       "      <td>4</td>\n",
       "      <td>2</td>\n",
       "      <td>1</td>\n",
       "      <td>2</td>\n",
       "      <td>1</td>\n",
       "      <td></td>\n",
       "      <td></td>\n",
       "      <td></td>\n",
       "      <td></td>\n",
       "      <td>15</td>\n",
       "      <td>3</td>\n",
       "      <td>10</td>\n",
       "      <td></td>\n",
       "      <td></td>\n",
       "      <td></td>\n",
       "      <td></td>\n",
       "      <td>4</td>\n",
       "      <td>6</td>\n",
       "      <td>944</td>\n",
       "    </tr>\n",
       "  </tbody>\n",
       "</table>\n",
       "</div>"
      ],
      "text/plain": [
       "   REG  RIP5  RIP3  SG11  SG16  C59 C59AB  C73  C74  CLETAS  COND3  COND10  \\\n",
       "0   19     5     3     2     1                           17      3      10   \n",
       "1    7     1     1     2     1    2     1    7    8      13      1       1   \n",
       "2    7     1     1     1     1                           14      3       8   \n",
       "3    4     2     1     1     1                           16      3      10   \n",
       "4    4     2     1     2     1                           15      3      10   \n",
       "\n",
       "  POSPRO DETIND PIEPAR LAVSPE EDULEV I1  COEFMI  \n",
       "0                                  6  6    2506  \n",
       "1      3      2      1      2      5  1    2814  \n",
       "2                                  3  6    2814  \n",
       "3                                  4  6     944  \n",
       "4                                  4  6     944  "
      ]
     },
     "execution_count": 3,
     "metadata": {},
     "output_type": "execute_result"
    }
   ],
   "source": [
    "df.head()"
   ]
  },
  {
   "cell_type": "code",
   "execution_count": null,
   "id": "bbe001c0",
   "metadata": {},
   "outputs": [],
   "source": [
    "# da REG 13 a 21 in range "
   ]
  },
  {
   "cell_type": "code",
   "execution_count": 92,
   "id": "7f80ac36",
   "metadata": {},
   "outputs": [],
   "source": [
    "data = pd.DataFrame(df)"
   ]
  },
  {
   "cell_type": "code",
   "execution_count": 5,
   "id": "10a23286",
   "metadata": {
    "scrolled": true
   },
   "outputs": [
    {
     "data": {
      "text/plain": [
       "(94121, 19)"
      ]
     },
     "execution_count": 5,
     "metadata": {},
     "output_type": "execute_result"
    }
   ],
   "source": [
    "df.shape"
   ]
  },
  {
   "cell_type": "code",
   "execution_count": 8,
   "id": "7d9a0868",
   "metadata": {},
   "outputs": [
    {
     "name": "stdout",
     "output_type": "stream",
     "text": [
      "REG        int64\n",
      "SG11       int64\n",
      "RIP5       int64\n",
      "EDULEV    object\n",
      "CLETAS     int64\n",
      "COND10     int64\n",
      "COEFMI     int64\n",
      "dtype: object\n"
     ]
    }
   ],
   "source": [
    "print(selected_rows.dtypes)"
   ]
  },
  {
   "cell_type": "markdown",
   "id": "0d6963ca",
   "metadata": {},
   "source": [
    "## Calcolo tasso di occupazione e disoccupazione"
   ]
  },
  {
   "cell_type": "code",
   "execution_count": 5,
   "id": "f855cebb",
   "metadata": {},
   "outputs": [
    {
     "data": {
      "text/plain": [
       "(array([23383.,  1256.,   621.,   696.,  1469.,   211.,  1281., 10141.,\n",
       "         7888., 12915.]),\n",
       " 59861.0)"
      ]
     },
     "execution_count": 5,
     "metadata": {},
     "output_type": "execute_result"
    }
   ],
   "source": [
    "a = round(data.groupby(by=['COND10'])['COEFMI'].sum()/10000)\n",
    "a = np.array(a)\n",
    "a, np.sum(a)"
   ]
  },
  {
   "cell_type": "code",
   "execution_count": 6,
   "id": "a033ece3",
   "metadata": {},
   "outputs": [
    {
     "data": {
      "text/plain": [
       "59.86737672179835"
      ]
     },
     "execution_count": 6,
     "metadata": {},
     "output_type": "execute_result"
    }
   ],
   "source": [
    "employment_italy = a[0] / np.sum(a[0:8]) * 100\n",
    "employment_italy"
   ]
  },
  {
   "cell_type": "code",
   "execution_count": 7,
   "id": "fc807dcc",
   "metadata": {},
   "outputs": [
    {
     "data": {
      "text/plain": [
       "9.912929573123748"
      ]
     },
     "execution_count": 7,
     "metadata": {},
     "output_type": "execute_result"
    }
   ],
   "source": [
    "unemployment_italy = np.sum(a[1:4]) / np.sum(a[0:4]) * 100\n",
    "unemployment_italy"
   ]
  },
  {
   "cell_type": "code",
   "execution_count": 8,
   "id": "3e3eaf15",
   "metadata": {},
   "outputs": [
    {
     "data": {
      "text/plain": [
       "66.45501561779918"
      ]
     },
     "execution_count": 8,
     "metadata": {},
     "output_type": "execute_result"
    }
   ],
   "source": [
    "# computing the activity rate in addition\n",
    "activity_italy = np.sum(a[0:4]) / np.sum(a[0:8]) * 100\n",
    "activity_italy "
   ]
  },
  {
   "cell_type": "markdown",
   "id": "1e768cca",
   "metadata": {},
   "source": [
    "## CALCOLO TASSO DI OCCUPAZIONE E DISOCCUPAZIONE SUD E ISOLE"
   ]
  },
  {
   "cell_type": "code",
   "execution_count": 106,
   "id": "503d6b12",
   "metadata": {
    "scrolled": true
   },
   "outputs": [
    {
     "name": "stdout",
     "output_type": "stream",
     "text": [
      "       REG  SG11  RIP5  EDULEV  CLETAS  COND10  COEFMI\n",
      "0       19     2     5     6.0      17      10    2506\n",
      "1        7     2     1     5.0      13       1    2814\n",
      "2        7     1     1     3.0      14       8    2814\n",
      "3        4     1     2     4.0      16      10     944\n",
      "4        4     2     2     4.0      15      10     944\n",
      "...    ...   ...   ...     ...     ...     ...     ...\n",
      "94116   10     1     3     5.0      17      10    2306\n",
      "94117   10     2     3     2.0      17      10    2306\n",
      "94118   12     1     3     6.0       9       1   34050\n",
      "94119   12     2     3     6.0       8       1   34050\n",
      "94120   12     2     3     NaN       2       9   34050\n",
      "\n",
      "[94121 rows x 7 columns]\n"
     ]
    }
   ],
   "source": [
    "subset = df[[\"REG\", \"SG11\", \"RIP5\", \"EDULEV\", \"CLETAS\", \"COND10\", \"COEFMI\"]]\n",
    "print(subset)"
   ]
  },
  {
   "cell_type": "code",
   "execution_count": 10,
   "id": "37db32cf",
   "metadata": {},
   "outputs": [
    {
     "name": "stdout",
     "output_type": "stream",
     "text": [
      "OCCUPAZIONE: {'Nord ovest': 67.99667505341066, 'Nord est': 69.41491076292908, 'Centro': 64.36067604116708, 'Sud': 45.966119852893264, 'Isole': 45.45792347966163}\n",
      "DISOCCUPAZIONE: {'Nord ovest': 6.538379956217369, 'Nord est': 5.668478800868688, 'Centro': 8.508760628739502, 'Sud': 17.212789269705926, 'Isole': 17.878101207798778}\n",
      "ATTIVITA': {'Nord ovest': 72.75358058372754, 'Nord est': 73.58612463843986, 'Centro': 70.34627193101971, 'Sud': 55.523213606800525, 'Isole': 55.354204113919714}\n"
     ]
    }
   ],
   "source": [
    "d = {'1': 'Nord ovest', '2': 'Nord est', '3': 'Centro', '4': 'Sud', '5': 'Isole'}\n",
    "occupazione_aree = dict()\n",
    "disoccupazione_aree = dict()\n",
    "attività_aree = dict()\n",
    "for i in range(1,6): # in range from Nord-ovest to Isole\n",
    "    a = df[(df.RIP5 == i)]\n",
    "    a = a.groupby(by = ['COND10'])['COEFMI'].sum()/10000\n",
    "    a = np.array(a)\n",
    "    tasso_occupazione = a[0] / np.sum(a[0:8]) * 100\n",
    "    tasso_disoccupazione = np.sum(a[1:4]) / np.sum(a[0:4]) * 100\n",
    "    tasso_attività = np.sum(a[0:4]) / np.sum(a[0:8]) * 100\n",
    "    occupazione_aree[d[str(i)]] = tasso_occupazione\n",
    "    disoccupazione_aree[d[str(i)]] = tasso_disoccupazione\n",
    "    attività_aree[d[str(i)]] = tasso_attività\n",
    "print(f\"OCCUPAZIONE: {occupazione_aree}\\nDISOCCUPAZIONE: {disoccupazione_aree}\\nATTIVITA': {attività_aree}\")"
   ]
  },
  {
   "cell_type": "code",
   "execution_count": 11,
   "id": "ff3566a6",
   "metadata": {},
   "outputs": [
    {
     "data": {
      "text/html": [
       "<div>\n",
       "<style scoped>\n",
       "    .dataframe tbody tr th:only-of-type {\n",
       "        vertical-align: middle;\n",
       "    }\n",
       "\n",
       "    .dataframe tbody tr th {\n",
       "        vertical-align: top;\n",
       "    }\n",
       "\n",
       "    .dataframe thead th {\n",
       "        text-align: right;\n",
       "    }\n",
       "</style>\n",
       "<table border=\"1\" class=\"dataframe\">\n",
       "  <thead>\n",
       "    <tr style=\"text-align: right;\">\n",
       "      <th></th>\n",
       "      <th>Territorio</th>\n",
       "      <th>Occupazione</th>\n",
       "      <th>Disoccupazione</th>\n",
       "      <th>Attività</th>\n",
       "    </tr>\n",
       "  </thead>\n",
       "  <tbody>\n",
       "    <tr>\n",
       "      <th>0</th>\n",
       "      <td>Nord ovest</td>\n",
       "      <td>67.996675</td>\n",
       "      <td>6.538380</td>\n",
       "      <td>72.753581</td>\n",
       "    </tr>\n",
       "    <tr>\n",
       "      <th>1</th>\n",
       "      <td>Nord est</td>\n",
       "      <td>69.414911</td>\n",
       "      <td>5.668479</td>\n",
       "      <td>73.586125</td>\n",
       "    </tr>\n",
       "    <tr>\n",
       "      <th>2</th>\n",
       "      <td>Centro</td>\n",
       "      <td>64.360676</td>\n",
       "      <td>8.508761</td>\n",
       "      <td>70.346272</td>\n",
       "    </tr>\n",
       "    <tr>\n",
       "      <th>3</th>\n",
       "      <td>Sud</td>\n",
       "      <td>45.966120</td>\n",
       "      <td>17.212789</td>\n",
       "      <td>55.523214</td>\n",
       "    </tr>\n",
       "    <tr>\n",
       "      <th>4</th>\n",
       "      <td>Isole</td>\n",
       "      <td>45.457923</td>\n",
       "      <td>17.878101</td>\n",
       "      <td>55.354204</td>\n",
       "    </tr>\n",
       "  </tbody>\n",
       "</table>\n",
       "</div>"
      ],
      "text/plain": [
       "   Territorio  Occupazione  Disoccupazione   Attività\n",
       "0  Nord ovest    67.996675        6.538380  72.753581\n",
       "1    Nord est    69.414911        5.668479  73.586125\n",
       "2      Centro    64.360676        8.508761  70.346272\n",
       "3         Sud    45.966120       17.212789  55.523214\n",
       "4       Isole    45.457923       17.878101  55.354204"
      ]
     },
     "execution_count": 11,
     "metadata": {},
     "output_type": "execute_result"
    }
   ],
   "source": [
    "rates = pd.DataFrame(list(occupazione_aree.items()), columns=['Territorio', 'Occupazione'])\n",
    "rates = rates.assign(Disoccupazione = disoccupazione_aree.values(), Attività = attività_aree.values())\n",
    "rates"
   ]
  },
  {
   "cell_type": "code",
   "execution_count": 107,
   "id": "57d38aa9",
   "metadata": {
    "scrolled": true
   },
   "outputs": [
    {
     "name": "stdout",
     "output_type": "stream",
     "text": [
      "       REG  SG11  RIP5  EDULEV  CLETAS  COND10  COEFMI\n",
      "0       19     2     5     6.0      17      10    2506\n",
      "5       16     1     4     2.0      14       1   23595\n",
      "6       16     2     4     2.0      12       8   23595\n",
      "7       16     1     4     5.0       5       4   23595\n",
      "12      15     2     4     6.0      10       1    5650\n",
      "...    ...   ...   ...     ...     ...     ...     ...\n",
      "94100   18     2     4     2.0      17      10    2471\n",
      "94112   19     1     5     3.0      11       1    8604\n",
      "94113   19     2     5     5.0      11       4    8604\n",
      "94114   19     2     5     3.0       6       5    8604\n",
      "94115   19     1     5     3.0       5       8    8604\n",
      "\n",
      "[33677 rows x 7 columns]\n"
     ]
    }
   ],
   "source": [
    "selected_rows = subset[subset['REG'] > 12]\n",
    "print(selected_rows)"
   ]
  },
  {
   "cell_type": "code",
   "execution_count": 108,
   "id": "bd014ddf",
   "metadata": {
    "scrolled": true
   },
   "outputs": [
    {
     "name": "stdout",
     "output_type": "stream",
     "text": [
      "OCCUPAZIONE SUD E ISOLE: 54.1956352154895\n",
      "DISOCCUPAZIONE SUD E ISOLE: 15.364025579181664\n",
      "ATTVITA' SUD E ISOLE: 64.03380546671976\n"
     ]
    }
   ],
   "source": [
    "reg = ['Piemonte', 'Valle d\\'Aosta', 'Lombardia', 'Trentino alto Adige', 'Veneto', 'Friuli Venezia Giulia', 'Liguria', 'Emilia Romagna',\n",
    "'Toscana', 'Umbria', 'Marche', 'Lazio',\n",
    "'Abruzzo', 'Molise', 'Campania', 'Puglia', 'Basilicata', 'Calabria',\n",
    "'Sicilia', 'Sardegna']\n",
    "num = []\n",
    "for i in range(1, 21):\n",
    "    num.append(i)\n",
    "d2 = dict()\n",
    "for i, j in zip(reg, num):\n",
    "    d2[str(j)] = i    \n",
    "d2\n",
    "employ_reg = dict()\n",
    "unemploy_reg = dict()\n",
    "activity_reg = dict()\n",
    "for i in range(13,21):\n",
    "    a = df[(df.REG == i)]\n",
    "    a = a.groupby(by=['COND10'])['COEFMI'].sum()/10000\n",
    "    a = np.array(a)\n",
    "    employ_rate = a[0] / np.sum(a[0:8]) * 100\n",
    "    unemploy_rate = np.sum(a[1:4]) / np.sum(a[0:4]) * 100\n",
    "    activity_rate = np.sum(a[0:4]) / np.sum(a[0:8]) * 100\n",
    "    employ_reg[d2[str(i)]] = employ_rate\n",
    "    unemploy_reg[d2[str(i)]] = unemploy_rate\n",
    "    activity_reg[d2[str(i)]] = activity_rate\n",
    "print(f\"OCCUPAZIONE SUD E ISOLE: {employ_rate}\\nDISOCCUPAZIONE SUD E ISOLE: {unemploy_rate}\\nATTVITA' SUD E ISOLE: {activity_rate}\")"
   ]
  },
  {
   "cell_type": "code",
   "execution_count": 14,
   "id": "bf1493f9",
   "metadata": {},
   "outputs": [
    {
     "data": {
      "text/html": [
       "<div>\n",
       "<style scoped>\n",
       "    .dataframe tbody tr th:only-of-type {\n",
       "        vertical-align: middle;\n",
       "    }\n",
       "\n",
       "    .dataframe tbody tr th {\n",
       "        vertical-align: top;\n",
       "    }\n",
       "\n",
       "    .dataframe thead th {\n",
       "        text-align: right;\n",
       "    }\n",
       "</style>\n",
       "<table border=\"1\" class=\"dataframe\">\n",
       "  <thead>\n",
       "    <tr style=\"text-align: right;\">\n",
       "      <th></th>\n",
       "      <th>Territorio</th>\n",
       "      <th>Occupazione</th>\n",
       "      <th>Disoccupazione</th>\n",
       "      <th>Attività</th>\n",
       "    </tr>\n",
       "  </thead>\n",
       "  <tbody>\n",
       "    <tr>\n",
       "      <th>0</th>\n",
       "      <td>Abruzzo</td>\n",
       "      <td>59.355728</td>\n",
       "      <td>13.172441</td>\n",
       "      <td>68.360471</td>\n",
       "    </tr>\n",
       "    <tr>\n",
       "      <th>1</th>\n",
       "      <td>Molise</td>\n",
       "      <td>57.107129</td>\n",
       "      <td>10.363631</td>\n",
       "      <td>63.709775</td>\n",
       "    </tr>\n",
       "    <tr>\n",
       "      <th>2</th>\n",
       "      <td>Campania</td>\n",
       "      <td>41.903439</td>\n",
       "      <td>20.373856</td>\n",
       "      <td>52.625228</td>\n",
       "    </tr>\n",
       "    <tr>\n",
       "      <th>3</th>\n",
       "      <td>Puglia</td>\n",
       "      <td>46.644358</td>\n",
       "      <td>14.609806</td>\n",
       "      <td>54.624958</td>\n",
       "    </tr>\n",
       "    <tr>\n",
       "      <th>4</th>\n",
       "      <td>Basilicata</td>\n",
       "      <td>51.973099</td>\n",
       "      <td>9.519878</td>\n",
       "      <td>57.441455</td>\n",
       "    </tr>\n",
       "    <tr>\n",
       "      <th>5</th>\n",
       "      <td>Calabria</td>\n",
       "      <td>44.693036</td>\n",
       "      <td>20.094247</td>\n",
       "      <td>55.932188</td>\n",
       "    </tr>\n",
       "    <tr>\n",
       "      <th>6</th>\n",
       "      <td>Sicilia</td>\n",
       "      <td>42.577865</td>\n",
       "      <td>18.888953</td>\n",
       "      <td>52.493299</td>\n",
       "    </tr>\n",
       "    <tr>\n",
       "      <th>7</th>\n",
       "      <td>Sardegna</td>\n",
       "      <td>54.195635</td>\n",
       "      <td>15.364026</td>\n",
       "      <td>64.033805</td>\n",
       "    </tr>\n",
       "  </tbody>\n",
       "</table>\n",
       "</div>"
      ],
      "text/plain": [
       "   Territorio  Occupazione  Disoccupazione   Attività\n",
       "0     Abruzzo    59.355728       13.172441  68.360471\n",
       "1      Molise    57.107129       10.363631  63.709775\n",
       "2    Campania    41.903439       20.373856  52.625228\n",
       "3      Puglia    46.644358       14.609806  54.624958\n",
       "4  Basilicata    51.973099        9.519878  57.441455\n",
       "5    Calabria    44.693036       20.094247  55.932188\n",
       "6     Sicilia    42.577865       18.888953  52.493299\n",
       "7    Sardegna    54.195635       15.364026  64.033805"
      ]
     },
     "execution_count": 14,
     "metadata": {},
     "output_type": "execute_result"
    }
   ],
   "source": [
    "reg_tax = pd.DataFrame(list(employ_reg.items()), columns=['Territorio', 'Occupazione'])\n",
    "reg_tax = reg_tax.assign(Disoccupazione = unemploy_reg.values(), Attività = activity_reg.values())\n",
    "reg_tax"
   ]
  },
  {
   "cell_type": "code",
   "execution_count": 15,
   "id": "3d777d5d",
   "metadata": {},
   "outputs": [
    {
     "data": {
      "text/plain": [
       "Text(0, 0.5, 'Tasso di occupazione')"
      ]
     },
     "execution_count": 15,
     "metadata": {},
     "output_type": "execute_result"
    },
    {
     "data": {
      "image/png": "[encoded data removed]",
      "text/plain": [
       "<Figure size 432x288 with 1 Axes>"
      ]
     },
     "metadata": {
      "needs_background": "light"
     },
     "output_type": "display_data"
    }
   ],
   "source": [
    "sns.barplot(data = reg_tax, x = 'Territorio', y = 'Occupazione', color='red', \n",
    "    order=reg_tax.sort_values(by=['Occupazione'], ascending=False).set_index('Territorio').index).set_title('Tasso di occcupazione per regione')\n",
    "plt.xticks(rotation=85)\n",
    "plt.xlabel('Regioni')\n",
    "plt.ylabel('Tasso di occupazione')\n",
    "#sns.set(rc = {'figure.figsize':(15, 10)})"
   ]
  },
  {
   "cell_type": "code",
   "execution_count": 16,
   "id": "69266c6c",
   "metadata": {},
   "outputs": [
    {
     "data": {
      "text/plain": [
       "Text(0, 0.5, 'Tasso di disoccupazione')"
      ]
     },
     "execution_count": 16,
     "metadata": {},
     "output_type": "execute_result"
    },
    {
     "data": {
      "image/png": "[encoded data removed]",
      "text/plain": [
       "<Figure size 432x288 with 1 Axes>"
      ]
     },
     "metadata": {
      "needs_background": "light"
     },
     "output_type": "display_data"
    }
   ],
   "source": [
    "sns.barplot(data = reg_tax, x = 'Territorio', y = 'Disoccupazione', color='blue', \n",
    "    order=reg_tax.sort_values(by=['Disoccupazione'], ascending=False).set_index('Territorio').index).set_title('Tasso di disocccupazione per regione')\n",
    "plt.xticks(rotation=85)\n",
    "plt.xlabel('Regioni')\n",
    "plt.ylabel('Tasso di disoccupazione')\n",
    "#sns.set(rc = {'figure.figsize':(15, 10)})"
   ]
  },
  {
   "cell_type": "markdown",
   "id": "7e6d58ef",
   "metadata": {},
   "source": [
    "## Analisi dei tassi rispetto al genere"
   ]
  },
  {
   "cell_type": "code",
   "execution_count": 17,
   "id": "64502ca1",
   "metadata": {},
   "outputs": [
    {
     "name": "stdout",
     "output_type": "stream",
     "text": [
      "Tassi per il genere maschile\n"
     ]
    },
    {
     "data": {
      "text/html": [
       "<div>\n",
       "<style scoped>\n",
       "    .dataframe tbody tr th:only-of-type {\n",
       "        vertical-align: middle;\n",
       "    }\n",
       "\n",
       "    .dataframe tbody tr th {\n",
       "        vertical-align: top;\n",
       "    }\n",
       "\n",
       "    .dataframe thead th {\n",
       "        text-align: right;\n",
       "    }\n",
       "</style>\n",
       "<table border=\"1\" class=\"dataframe\">\n",
       "  <thead>\n",
       "    <tr style=\"text-align: right;\">\n",
       "      <th></th>\n",
       "      <th>Territorio</th>\n",
       "      <th>Occupazione</th>\n",
       "      <th>Disoccupazione</th>\n",
       "      <th>Attività</th>\n",
       "    </tr>\n",
       "  </thead>\n",
       "  <tbody>\n",
       "    <tr>\n",
       "      <th>0</th>\n",
       "      <td>Nord ovest</td>\n",
       "      <td>75.505184</td>\n",
       "      <td>5.035043</td>\n",
       "      <td>79.508470</td>\n",
       "    </tr>\n",
       "    <tr>\n",
       "      <th>1</th>\n",
       "      <td>Nord est</td>\n",
       "      <td>76.396334</td>\n",
       "      <td>4.720067</td>\n",
       "      <td>80.180928</td>\n",
       "    </tr>\n",
       "    <tr>\n",
       "      <th>2</th>\n",
       "      <td>Centro</td>\n",
       "      <td>72.256153</td>\n",
       "      <td>7.281797</td>\n",
       "      <td>77.930925</td>\n",
       "    </tr>\n",
       "    <tr>\n",
       "      <th>3</th>\n",
       "      <td>Sud</td>\n",
       "      <td>58.864125</td>\n",
       "      <td>15.531716</td>\n",
       "      <td>69.687843</td>\n",
       "    </tr>\n",
       "    <tr>\n",
       "      <th>4</th>\n",
       "      <td>Isole</td>\n",
       "      <td>56.122746</td>\n",
       "      <td>15.746118</td>\n",
       "      <td>66.611466</td>\n",
       "    </tr>\n",
       "  </tbody>\n",
       "</table>\n",
       "</div>"
      ],
      "text/plain": [
       "   Territorio  Occupazione  Disoccupazione   Attività\n",
       "0  Nord ovest    75.505184        5.035043  79.508470\n",
       "1    Nord est    76.396334        4.720067  80.180928\n",
       "2      Centro    72.256153        7.281797  77.930925\n",
       "3         Sud    58.864125       15.531716  69.687843\n",
       "4       Isole    56.122746       15.746118  66.611466"
      ]
     },
     "execution_count": 17,
     "metadata": {},
     "output_type": "execute_result"
    }
   ],
   "source": [
    "d = {'1': 'Nord ovest', '2': 'Nord est', '3': 'Centro', '4': 'Sud', '5': 'Isole'}\n",
    "employ_m = dict()\n",
    "unemploy_m = dict()\n",
    "activity_m = dict()\n",
    "for i in range(1,6):\n",
    "    a = df[((df.RIP5 == i) & (df.SG11 == 1))] # SG11 = 1 MEN\n",
    "    a = a.groupby(by = ['COND10'])['COEFMI'].sum()/10000\n",
    "    a = np.array(a)\n",
    "    employ_sex = a[0] / np.sum(a[0:8]) * 100\n",
    "    unemploy_sex = np.sum(a[1:4]) / np.sum(a[0:4]) * 100\n",
    "    activity_sex = np.sum(a[0:4]) / np.sum(a[0:8]) * 100\n",
    "    employ_m[d[str(i)]] = employ_sex\n",
    "    unemploy_m[d[str(i)]] = unemploy_sex\n",
    "    activity_m[d[str(i)]] = activity_sex\n",
    "sex_m = pd.DataFrame(list(employ_m.items()), columns=['Territorio', 'Occupazione'])\n",
    "sex = sex_m.assign(Disoccupazione = unemploy_m.values(), Attività = activity_m.values())\n",
    "print(\"Tassi per il genere maschile\")\n",
    "sex"
   ]
  },
  {
   "cell_type": "code",
   "execution_count": 18,
   "id": "abf9b3c3",
   "metadata": {},
   "outputs": [
    {
     "name": "stdout",
     "output_type": "stream",
     "text": [
      "Tassi per il genere femminile\n"
     ]
    },
    {
     "data": {
      "text/html": [
       "<div>\n",
       "<style scoped>\n",
       "    .dataframe tbody tr th:only-of-type {\n",
       "        vertical-align: middle;\n",
       "    }\n",
       "\n",
       "    .dataframe tbody tr th {\n",
       "        vertical-align: top;\n",
       "    }\n",
       "\n",
       "    .dataframe thead th {\n",
       "        text-align: right;\n",
       "    }\n",
       "</style>\n",
       "<table border=\"1\" class=\"dataframe\">\n",
       "  <thead>\n",
       "    <tr style=\"text-align: right;\">\n",
       "      <th></th>\n",
       "      <th>Territorio</th>\n",
       "      <th>Occupazione</th>\n",
       "      <th>Disoccupazione</th>\n",
       "      <th>Attività</th>\n",
       "    </tr>\n",
       "  </thead>\n",
       "  <tbody>\n",
       "    <tr>\n",
       "      <th>0</th>\n",
       "      <td>Nord ovest</td>\n",
       "      <td>60.316088</td>\n",
       "      <td>8.395307</td>\n",
       "      <td>65.843885</td>\n",
       "    </tr>\n",
       "    <tr>\n",
       "      <th>1</th>\n",
       "      <td>Nord est</td>\n",
       "      <td>62.308993</td>\n",
       "      <td>6.825893</td>\n",
       "      <td>66.873721</td>\n",
       "    </tr>\n",
       "    <tr>\n",
       "      <th>2</th>\n",
       "      <td>Centro</td>\n",
       "      <td>56.528901</td>\n",
       "      <td>10.018514</td>\n",
       "      <td>62.822813</td>\n",
       "    </tr>\n",
       "    <tr>\n",
       "      <th>3</th>\n",
       "      <td>Sud</td>\n",
       "      <td>33.084324</td>\n",
       "      <td>20.040565</td>\n",
       "      <td>41.376386</td>\n",
       "    </tr>\n",
       "    <tr>\n",
       "      <th>4</th>\n",
       "      <td>Isole</td>\n",
       "      <td>34.789712</td>\n",
       "      <td>21.099894</td>\n",
       "      <td>44.093365</td>\n",
       "    </tr>\n",
       "  </tbody>\n",
       "</table>\n",
       "</div>"
      ],
      "text/plain": [
       "   Territorio  Occupazione  Disoccupazione   Attività\n",
       "0  Nord ovest    60.316088        8.395307  65.843885\n",
       "1    Nord est    62.308993        6.825893  66.873721\n",
       "2      Centro    56.528901       10.018514  62.822813\n",
       "3         Sud    33.084324       20.040565  41.376386\n",
       "4       Isole    34.789712       21.099894  44.093365"
      ]
     },
     "execution_count": 18,
     "metadata": {},
     "output_type": "execute_result"
    }
   ],
   "source": [
    "d = {'1': 'Nord ovest', '2': 'Nord est', '3': 'Centro', '4': 'Sud', '5': 'Isole'}\n",
    "sex_employ = dict()\n",
    "sex_unemploy = dict()\n",
    "sex_activity = dict()\n",
    "for i in range(1,6):\n",
    "    a = df[((df.RIP5 == i) & (df.SG11 == 2))] # SG11 = 2 WOMEN\n",
    "    a = a.groupby(by = ['COND10'])['COEFMI'].sum()/10000\n",
    "    a = np.array(a)\n",
    "    rate_sex = a[0] / np.sum(a[0:8]) * 100\n",
    "    rate_no = np.sum(a[1:4]) / np.sum(a[0:4]) * 100\n",
    "    act_rate = np.sum(a[0:4]) / np.sum(a[0:8]) * 100\n",
    "    sex_employ[d[str(i)]] = rate_sex\n",
    "    sex_unemploy[d[str(i)]] = rate_no\n",
    "    sex_activity[d[str(i)]] = act_rate\n",
    "rate_sex = pd.DataFrame(list(sex_employ.items()), columns=['Territorio', 'Occupazione'])\n",
    "tax_f = rate_sex.assign(Disoccupazione = sex_unemploy.values(), Attività = sex_activity.values())\n",
    "print(\"Tassi per il genere femminile\")\n",
    "tax_f"
   ]
  },
  {
   "cell_type": "code",
   "execution_count": 136,
   "id": "d16b7b6f",
   "metadata": {
    "scrolled": true
   },
   "outputs": [
    {
     "name": "stdout",
     "output_type": "stream",
     "text": [
      "OCCUPAZIONE FEMMINILE SUD E ISOLE: 48.16510947312933\n",
      "DISOCCUPAZIONE FEMMINILE SUD E ISOLE: 16.089547866795797\n",
      "ATTVITA' FEMMINILE SUD E ISOLE: 57.40060772961789\n"
     ]
    },
    {
     "data": {
      "text/html": [
       "<div>\n",
       "<style scoped>\n",
       "    .dataframe tbody tr th:only-of-type {\n",
       "        vertical-align: middle;\n",
       "    }\n",
       "\n",
       "    .dataframe tbody tr th {\n",
       "        vertical-align: top;\n",
       "    }\n",
       "\n",
       "    .dataframe thead th {\n",
       "        text-align: right;\n",
       "    }\n",
       "</style>\n",
       "<table border=\"1\" class=\"dataframe\">\n",
       "  <thead>\n",
       "    <tr style=\"text-align: right;\">\n",
       "      <th></th>\n",
       "      <th>Territorio</th>\n",
       "      <th>Occupazione</th>\n",
       "      <th>Disoccupazione</th>\n",
       "      <th>Attività</th>\n",
       "    </tr>\n",
       "  </thead>\n",
       "  <tbody>\n",
       "    <tr>\n",
       "      <th>0</th>\n",
       "      <td>Abruzzo</td>\n",
       "      <td>48.831374</td>\n",
       "      <td>16.225373</td>\n",
       "      <td>58.288979</td>\n",
       "    </tr>\n",
       "    <tr>\n",
       "      <th>1</th>\n",
       "      <td>Molise</td>\n",
       "      <td>47.614606</td>\n",
       "      <td>10.420646</td>\n",
       "      <td>53.153548</td>\n",
       "    </tr>\n",
       "    <tr>\n",
       "      <th>2</th>\n",
       "      <td>Campania</td>\n",
       "      <td>28.463799</td>\n",
       "      <td>24.828905</td>\n",
       "      <td>37.865351</td>\n",
       "    </tr>\n",
       "    <tr>\n",
       "      <th>3</th>\n",
       "      <td>Puglia</td>\n",
       "      <td>32.800830</td>\n",
       "      <td>17.475969</td>\n",
       "      <td>39.747004</td>\n",
       "    </tr>\n",
       "    <tr>\n",
       "      <th>4</th>\n",
       "      <td>Basilicata</td>\n",
       "      <td>39.076180</td>\n",
       "      <td>13.073197</td>\n",
       "      <td>44.952970</td>\n",
       "    </tr>\n",
       "    <tr>\n",
       "      <th>5</th>\n",
       "      <td>Calabria</td>\n",
       "      <td>33.541225</td>\n",
       "      <td>19.230904</td>\n",
       "      <td>41.527300</td>\n",
       "    </tr>\n",
       "    <tr>\n",
       "      <th>6</th>\n",
       "      <td>Sicilia</td>\n",
       "      <td>30.476998</td>\n",
       "      <td>23.429682</td>\n",
       "      <td>39.802627</td>\n",
       "    </tr>\n",
       "    <tr>\n",
       "      <th>7</th>\n",
       "      <td>Sardegna</td>\n",
       "      <td>48.165109</td>\n",
       "      <td>16.089548</td>\n",
       "      <td>57.400608</td>\n",
       "    </tr>\n",
       "  </tbody>\n",
       "</table>\n",
       "</div>"
      ],
      "text/plain": [
       "   Territorio  Occupazione  Disoccupazione   Attività\n",
       "0     Abruzzo    48.831374       16.225373  58.288979\n",
       "1      Molise    47.614606       10.420646  53.153548\n",
       "2    Campania    28.463799       24.828905  37.865351\n",
       "3      Puglia    32.800830       17.475969  39.747004\n",
       "4  Basilicata    39.076180       13.073197  44.952970\n",
       "5    Calabria    33.541225       19.230904  41.527300\n",
       "6     Sicilia    30.476998       23.429682  39.802627\n",
       "7    Sardegna    48.165109       16.089548  57.400608"
      ]
     },
     "execution_count": 136,
     "metadata": {},
     "output_type": "execute_result"
    }
   ],
   "source": [
    "reg = ['Piemonte', 'Valle d\\'Aosta', 'Lombardia', 'Trentino alto Adige', 'Veneto', 'Friuli Venezia Giulia', 'Liguria', 'Emilia Romagna',\n",
    "'Toscana', 'Umbria', 'Marche', 'Lazio',\n",
    "'Abruzzo', 'Molise', 'Campania', 'Puglia', 'Basilicata', 'Calabria',\n",
    "'Sicilia', 'Sardegna']\n",
    "num = []\n",
    "for i in range(1, 21):\n",
    "    num.append(i)\n",
    "d2 = dict()\n",
    "for i, j in zip(reg, num):\n",
    "    d2[str(j)] = i    \n",
    "d2\n",
    "employ_reg = dict()\n",
    "unemploy_reg = dict()\n",
    "activity_reg = dict()\n",
    "for i in range(13,21):\n",
    "    a = df[((df.REG == i) & (df.SG11 == 2))]\n",
    "    a = a.groupby(by=['COND10'])['COEFMI'].sum()/10000\n",
    "    a = np.array(a)\n",
    "    employ_rate_f = a[0] / np.sum(a[0:8]) * 100\n",
    "    unemploy_rate_f = np.sum(a[1:4]) / np.sum(a[0:4]) * 100\n",
    "    activity_rate_f = np.sum(a[0:4]) / np.sum(a[0:8]) * 100\n",
    "    employ_reg[d2[str(i)]] = employ_rate_f\n",
    "    unemploy_reg[d2[str(i)]] = unemploy_rate_f\n",
    "    activity_reg[d2[str(i)]] = activity_rate_f\n",
    "print(f\"OCCUPAZIONE FEMMINILE SUD E ISOLE: {employ_rate_f}\\nDISOCCUPAZIONE FEMMINILE SUD E ISOLE: {unemploy_rate_f}\\nATTVITA' FEMMINILE SUD E ISOLE: {activity_rate_f}\")\n",
    "sex_r = pd.DataFrame(list(employ_reg.items()), columns=['Territorio', 'Occupazione'])\n",
    "tax_f = sex_r.assign(Disoccupazione = unemploy_reg.values(), Attività = activity_reg.values())\n",
    "tax_f"
   ]
  },
  {
   "cell_type": "code",
   "execution_count": null,
   "id": "1f5cdf5b",
   "metadata": {},
   "outputs": [],
   "source": []
  },
  {
   "cell_type": "code",
   "execution_count": 109,
   "id": "974dfbd9",
   "metadata": {
    "scrolled": true
   },
   "outputs": [
    {
     "name": "stdout",
     "output_type": "stream",
     "text": [
      "OCCUPAZIONE MASCHILE SUD E ISOLE: 60.02899003572837\n",
      "DISOCCUPAZIONE MASCHILE SUD E ISOLE: 14.792219612883702\n",
      "ATTVITA' MASCHILE SUD E ISOLE: 70.45012763271669\n"
     ]
    },
    {
     "data": {
      "text/html": [
       "<div>\n",
       "<style scoped>\n",
       "    .dataframe tbody tr th:only-of-type {\n",
       "        vertical-align: middle;\n",
       "    }\n",
       "\n",
       "    .dataframe tbody tr th {\n",
       "        vertical-align: top;\n",
       "    }\n",
       "\n",
       "    .dataframe thead th {\n",
       "        text-align: right;\n",
       "    }\n",
       "</style>\n",
       "<table border=\"1\" class=\"dataframe\">\n",
       "  <thead>\n",
       "    <tr style=\"text-align: right;\">\n",
       "      <th></th>\n",
       "      <th>Territorio</th>\n",
       "      <th>Occupazione</th>\n",
       "      <th>Disoccupazione</th>\n",
       "      <th>Attività</th>\n",
       "    </tr>\n",
       "  </thead>\n",
       "  <tbody>\n",
       "    <tr>\n",
       "      <th>0</th>\n",
       "      <td>Abruzzo</td>\n",
       "      <td>69.877671</td>\n",
       "      <td>10.904019</td>\n",
       "      <td>78.429656</td>\n",
       "    </tr>\n",
       "    <tr>\n",
       "      <th>1</th>\n",
       "      <td>Molise</td>\n",
       "      <td>66.334584</td>\n",
       "      <td>10.323805</td>\n",
       "      <td>73.971230</td>\n",
       "    </tr>\n",
       "    <tr>\n",
       "      <th>2</th>\n",
       "      <td>Campania</td>\n",
       "      <td>55.459725</td>\n",
       "      <td>17.853518</td>\n",
       "      <td>67.513208</td>\n",
       "    </tr>\n",
       "    <tr>\n",
       "      <th>3</th>\n",
       "      <td>Puglia</td>\n",
       "      <td>60.499990</td>\n",
       "      <td>12.969592</td>\n",
       "      <td>69.515921</td>\n",
       "    </tr>\n",
       "    <tr>\n",
       "      <th>4</th>\n",
       "      <td>Basilicata</td>\n",
       "      <td>64.565927</td>\n",
       "      <td>7.280129</td>\n",
       "      <td>69.635479</td>\n",
       "    </tr>\n",
       "    <tr>\n",
       "      <th>5</th>\n",
       "      <td>Calabria</td>\n",
       "      <td>55.758207</td>\n",
       "      <td>20.600814</td>\n",
       "      <td>70.225162</td>\n",
       "    </tr>\n",
       "    <tr>\n",
       "      <th>6</th>\n",
       "      <td>Sicilia</td>\n",
       "      <td>54.806870</td>\n",
       "      <td>16.092698</td>\n",
       "      <td>65.318356</td>\n",
       "    </tr>\n",
       "    <tr>\n",
       "      <th>7</th>\n",
       "      <td>Sardegna</td>\n",
       "      <td>60.028990</td>\n",
       "      <td>14.792220</td>\n",
       "      <td>70.450128</td>\n",
       "    </tr>\n",
       "  </tbody>\n",
       "</table>\n",
       "</div>"
      ],
      "text/plain": [
       "   Territorio  Occupazione  Disoccupazione   Attività\n",
       "0     Abruzzo    69.877671       10.904019  78.429656\n",
       "1      Molise    66.334584       10.323805  73.971230\n",
       "2    Campania    55.459725       17.853518  67.513208\n",
       "3      Puglia    60.499990       12.969592  69.515921\n",
       "4  Basilicata    64.565927        7.280129  69.635479\n",
       "5    Calabria    55.758207       20.600814  70.225162\n",
       "6     Sicilia    54.806870       16.092698  65.318356\n",
       "7    Sardegna    60.028990       14.792220  70.450128"
      ]
     },
     "execution_count": 109,
     "metadata": {},
     "output_type": "execute_result"
    }
   ],
   "source": [
    "reg = ['Piemonte', 'Valle d\\'Aosta', 'Lombardia', 'Trentino alto Adige', 'Veneto', 'Friuli Venezia Giulia', 'Liguria', 'Emilia Romagna',\n",
    "'Toscana', 'Umbria', 'Marche', 'Lazio',\n",
    "'Abruzzo', 'Molise', 'Campania', 'Puglia', 'Basilicata', 'Calabria',\n",
    "'Sicilia', 'Sardegna']\n",
    "num = []\n",
    "for i in range(1, 21):\n",
    "    num.append(i)\n",
    "d2 = dict()\n",
    "for i, j in zip(reg, num):\n",
    "    d2[str(j)] = i    \n",
    "d2\n",
    "employ_reg = dict()\n",
    "unemploy_reg = dict()\n",
    "activity_reg = dict()\n",
    "for i in range(13,21):\n",
    "    a = df[((df.REG == i) & (df.SG11 == 1))]\n",
    "    a = a.groupby(by=['COND10'])['COEFMI'].sum()/10000\n",
    "    a = np.array(a)\n",
    "    employ_rate_m = a[0] / np.sum(a[0:8]) * 100\n",
    "    unemploy_rate_m = np.sum(a[1:4]) / np.sum(a[0:4]) * 100\n",
    "    activity_rate_m = np.sum(a[0:4]) / np.sum(a[0:8]) * 100\n",
    "    employ_reg[d2[str(i)]] = employ_rate_m\n",
    "    unemploy_reg[d2[str(i)]] = unemploy_rate_m\n",
    "    activity_reg[d2[str(i)]] = activity_rate_m\n",
    "print(f\"OCCUPAZIONE MASCHILE SUD E ISOLE: {employ_rate_m}\\nDISOCCUPAZIONE MASCHILE SUD E ISOLE: {unemploy_rate_m}\\nATTVITA' MASCHILE SUD E ISOLE: {activity_rate_m}\")\n",
    "sex_r = pd.DataFrame(list(employ_reg.items()), columns=['Territorio', 'Occupazione'])\n",
    "tax_m = sex_r.assign(Disoccupazione = unemploy_reg.values(), Attività = activity_reg.values())\n",
    "tax_m"
   ]
  },
  {
   "cell_type": "code",
   "execution_count": 186,
   "id": "cba5019a",
   "metadata": {},
   "outputs": [
    {
     "data": {
      "text/plain": [
       "<matplotlib.legend.Legend at 0x2b293163760>"
      ]
     },
     "execution_count": 186,
     "metadata": {},
     "output_type": "execute_result"
    },
    {
     "data": {
      "image/png": "[encoded data removed]",
      "text/plain": [
       "<Figure size 432x288 with 1 Axes>"
      ]
     },
     "metadata": {},
     "output_type": "display_data"
    }
   ],
   "source": [
    "plt.pie([tax_m.iloc[1,1], tax_f.iloc[1,1]], labels = ['No', 'Si'], autopct='%1.1f%%', colors = ['yellow', 'lightblue'])\n",
    "plt.legend()"
   ]
  },
  {
   "cell_type": "code",
   "execution_count": 139,
   "id": "2ee71bb8",
   "metadata": {},
   "outputs": [
    {
     "data": {
      "text/plain": [
       "Text(0, 0.5, 'Tasso di disoccupazione')"
      ]
     },
     "execution_count": 139,
     "metadata": {},
     "output_type": "execute_result"
    },
    {
     "data": {
      "image/png": "[encoded data removed]",
      "text/plain": [
       "<Figure size 432x288 with 1 Axes>"
      ]
     },
     "metadata": {
      "needs_background": "light"
     },
     "output_type": "display_data"
    }
   ],
   "source": [
    "tax_reg = tax_f\n",
    "sns.barplot(data = tax_reg, x = 'Territorio', y = 'Disoccupazione', color='red', \n",
    "    order=tax_reg.sort_values(by=['Disoccupazione'], ascending=False).set_index('Territorio').index).set_title('Tasso di disocccupazione per regione - donne')\n",
    "plt.xticks(rotation=85)\n",
    "plt.xlabel('Regioni')\n",
    "plt.ylabel('Tasso di disoccupazione')"
   ]
  },
  {
   "cell_type": "code",
   "execution_count": 22,
   "id": "f63d2e40",
   "metadata": {},
   "outputs": [
    {
     "data": {
      "text/plain": [
       "Text(0, 0.5, 'Tasso di occupazione')"
      ]
     },
     "execution_count": 22,
     "metadata": {},
     "output_type": "execute_result"
    },
    {
     "data": {
      "image/png": "[encoded data removed]",
      "text/plain": [
       "<Figure size 432x288 with 1 Axes>"
      ]
     },
     "metadata": {
      "needs_background": "light"
     },
     "output_type": "display_data"
    }
   ],
   "source": [
    "tax_reg = tax_f[-8:]\n",
    "sns.barplot(data = tax_reg, x = 'Territorio', y = 'Occupazione', color='red', \n",
    "    order=tax_reg.sort_values(by=['Occupazione'], ascending=False).set_index('Territorio').index).set_title('Tasso di occcupazione per regione - donne')\n",
    "plt.xticks(rotation=85)\n",
    "plt.xlabel('Regioni')\n",
    "plt.ylabel('Tasso di occupazione')"
   ]
  },
  {
   "cell_type": "markdown",
   "id": "97c7cc43",
   "metadata": {},
   "source": [
    "## Analisi dei tassi rispetto al livello di istruzione"
   ]
  },
  {
   "cell_type": "code",
   "execution_count": 88,
   "id": "1029b8e8",
   "metadata": {},
   "outputs": [
    {
     "data": {
      "text/plain": [
       "{'1': 'nessun titolo',\n",
       " '2': 'licenza elementare',\n",
       " '3': 'licenza media',\n",
       " '4': 'qualifica superiori',\n",
       " '5': 'diploma superiori',\n",
       " '6': 'laurea'}"
      ]
     },
     "execution_count": 88,
     "metadata": {},
     "output_type": "execute_result"
    }
   ],
   "source": [
    "titoli = ['nessun titolo', 'licenza elementare', 'licenza media', 'qualifica superiori', 'diploma superiori', 'laurea']\n",
    "numeri = []\n",
    "for i in range(1, 7):\n",
    "    numeri.append(i)\n",
    "d3 = dict()\n",
    "for i, j in zip(titoli, numeri):\n",
    "    d3[str(j)] = i    \n",
    "d3"
   ]
  },
  {
   "cell_type": "code",
   "execution_count": 93,
   "id": "dc67a6bb",
   "metadata": {},
   "outputs": [
    {
     "data": {
      "text/plain": [
       "array([6, 5, 3, 4, 2, ' ', 1], dtype=object)"
      ]
     },
     "execution_count": 93,
     "metadata": {},
     "output_type": "execute_result"
    }
   ],
   "source": [
    "data['EDULEV'].unique() # changing into NaN all the missing values "
   ]
  },
  {
   "cell_type": "code",
   "execution_count": 94,
   "id": "bd26d08e",
   "metadata": {},
   "outputs": [],
   "source": [
    "data['EDULEV'] = pd.to_numeric(data['EDULEV'], errors='coerce')"
   ]
  },
  {
   "cell_type": "code",
   "execution_count": 95,
   "id": "f4e8c48c",
   "metadata": {},
   "outputs": [
    {
     "name": "stdout",
     "output_type": "stream",
     "text": [
      "\n",
      " tassi nessun titolo \n",
      "\n"
     ]
    },
    {
     "data": {
      "text/html": [
       "<div>\n",
       "<style scoped>\n",
       "    .dataframe tbody tr th:only-of-type {\n",
       "        vertical-align: middle;\n",
       "    }\n",
       "\n",
       "    .dataframe tbody tr th {\n",
       "        vertical-align: top;\n",
       "    }\n",
       "\n",
       "    .dataframe thead th {\n",
       "        text-align: right;\n",
       "    }\n",
       "</style>\n",
       "<table border=\"1\" class=\"dataframe\">\n",
       "  <thead>\n",
       "    <tr style=\"text-align: right;\">\n",
       "      <th></th>\n",
       "      <th>Territorio</th>\n",
       "      <th>Occupazione</th>\n",
       "      <th>Disoccupazione</th>\n",
       "      <th>Attività</th>\n",
       "    </tr>\n",
       "  </thead>\n",
       "  <tbody>\n",
       "    <tr>\n",
       "      <th>0</th>\n",
       "      <td>Nord ovest</td>\n",
       "      <td>8.676398</td>\n",
       "      <td>28.520521</td>\n",
       "      <td>12.138307</td>\n",
       "    </tr>\n",
       "    <tr>\n",
       "      <th>1</th>\n",
       "      <td>Nord est</td>\n",
       "      <td>8.011851</td>\n",
       "      <td>16.289413</td>\n",
       "      <td>9.570893</td>\n",
       "    </tr>\n",
       "    <tr>\n",
       "      <th>2</th>\n",
       "      <td>Centro</td>\n",
       "      <td>17.074453</td>\n",
       "      <td>11.308939</td>\n",
       "      <td>19.251606</td>\n",
       "    </tr>\n",
       "    <tr>\n",
       "      <th>3</th>\n",
       "      <td>Sud</td>\n",
       "      <td>5.638691</td>\n",
       "      <td>24.292810</td>\n",
       "      <td>7.448025</td>\n",
       "    </tr>\n",
       "    <tr>\n",
       "      <th>4</th>\n",
       "      <td>Isole</td>\n",
       "      <td>27.991360</td>\n",
       "      <td>24.001572</td>\n",
       "      <td>36.831499</td>\n",
       "    </tr>\n",
       "  </tbody>\n",
       "</table>\n",
       "</div>"
      ],
      "text/plain": [
       "   Territorio  Occupazione  Disoccupazione   Attività\n",
       "0  Nord ovest     8.676398       28.520521  12.138307\n",
       "1    Nord est     8.011851       16.289413   9.570893\n",
       "2      Centro    17.074453       11.308939  19.251606\n",
       "3         Sud     5.638691       24.292810   7.448025\n",
       "4       Isole    27.991360       24.001572  36.831499"
      ]
     },
     "execution_count": 95,
     "metadata": {},
     "output_type": "execute_result"
    }
   ],
   "source": [
    "d = {'1': 'Nord ovest', '2': 'Nord est', '3': 'Centro', '4': 'Sud', '5': 'Isole'}\n",
    "edu_employ = dict()\n",
    "edu_unemploy = dict()\n",
    "edu_activity = dict()\n",
    "for i in range(1,6):\n",
    "    a = df[((df.RIP5 == i) & (df.EDULEV == 1))]\n",
    "    a = a.groupby(by = ['COND10'])['COEFMI'].sum()/10000\n",
    "    a = np.array(a)\n",
    "    edu_employ_rate = a[0] / np.sum(a[0:8]) * 100\n",
    "    edu_unemploy_rate = np.sum(a[1:4]) / np.sum(a[0:4]) * 100\n",
    "    edu_activity_rate = np.sum(a[0:4]) / np.sum(a[0:8]) * 100\n",
    "    edu_employ[d[str(i)]] = edu_employ_rate\n",
    "    edu_unemploy[d[str(i)]] = edu_unemploy_rate\n",
    "    edu_activity[d[str(i)]] = edu_activity_rate\n",
    "    \n",
    "print('\\n tassi nessun titolo \\n')\n",
    "\n",
    "edu_tax = pd.DataFrame(list(edu_employ.items()), columns=['Territorio', 'Occupazione'])\n",
    "noedu_tax = edu_tax.assign(Disoccupazione = edu_unemploy.values(), Attività = edu_activity.values())\n",
    "noedu_tax"
   ]
  },
  {
   "cell_type": "code",
   "execution_count": 96,
   "id": "6c1b7251",
   "metadata": {},
   "outputs": [
    {
     "name": "stdout",
     "output_type": "stream",
     "text": [
      "\n",
      " tassi licenza elementare \n",
      "\n"
     ]
    },
    {
     "data": {
      "text/html": [
       "<div>\n",
       "<style scoped>\n",
       "    .dataframe tbody tr th:only-of-type {\n",
       "        vertical-align: middle;\n",
       "    }\n",
       "\n",
       "    .dataframe tbody tr th {\n",
       "        vertical-align: top;\n",
       "    }\n",
       "\n",
       "    .dataframe thead th {\n",
       "        text-align: right;\n",
       "    }\n",
       "</style>\n",
       "<table border=\"1\" class=\"dataframe\">\n",
       "  <thead>\n",
       "    <tr style=\"text-align: right;\">\n",
       "      <th></th>\n",
       "      <th>Territorio</th>\n",
       "      <th>Occupazione</th>\n",
       "      <th>Disoccupazione</th>\n",
       "      <th>Attività</th>\n",
       "    </tr>\n",
       "  </thead>\n",
       "  <tbody>\n",
       "    <tr>\n",
       "      <th>0</th>\n",
       "      <td>Nord ovest</td>\n",
       "      <td>5.590649</td>\n",
       "      <td>21.380569</td>\n",
       "      <td>7.111027</td>\n",
       "    </tr>\n",
       "    <tr>\n",
       "      <th>1</th>\n",
       "      <td>Nord est</td>\n",
       "      <td>7.155218</td>\n",
       "      <td>11.996727</td>\n",
       "      <td>8.130627</td>\n",
       "    </tr>\n",
       "    <tr>\n",
       "      <th>2</th>\n",
       "      <td>Centro</td>\n",
       "      <td>52.099088</td>\n",
       "      <td>9.520077</td>\n",
       "      <td>57.580827</td>\n",
       "    </tr>\n",
       "    <tr>\n",
       "      <th>3</th>\n",
       "      <td>Sud</td>\n",
       "      <td>26.808287</td>\n",
       "      <td>21.422223</td>\n",
       "      <td>34.116881</td>\n",
       "    </tr>\n",
       "    <tr>\n",
       "      <th>4</th>\n",
       "      <td>Isole</td>\n",
       "      <td>27.614136</td>\n",
       "      <td>25.287259</td>\n",
       "      <td>36.960411</td>\n",
       "    </tr>\n",
       "  </tbody>\n",
       "</table>\n",
       "</div>"
      ],
      "text/plain": [
       "   Territorio  Occupazione  Disoccupazione   Attività\n",
       "0  Nord ovest     5.590649       21.380569   7.111027\n",
       "1    Nord est     7.155218       11.996727   8.130627\n",
       "2      Centro    52.099088        9.520077  57.580827\n",
       "3         Sud    26.808287       21.422223  34.116881\n",
       "4       Isole    27.614136       25.287259  36.960411"
      ]
     },
     "execution_count": 96,
     "metadata": {},
     "output_type": "execute_result"
    }
   ],
   "source": [
    "d = {'1': 'Nord ovest', '2': 'Nord est', '3': 'Centro', '4': 'Sud', '5': 'Isole'}\n",
    "edu_employ = dict()\n",
    "edu_unemploy = dict()\n",
    "edu_activity = dict()\n",
    "for i in range(1,6):\n",
    "    a = df[((df.RIP5 == i) & (df.EDULEV == 2))]\n",
    "    a = a.groupby(by = ['COND10'])['COEFMI'].sum()/10000\n",
    "    a = np.array(a)\n",
    "    edu_employ_rate = a[0] / np.sum(a[0:8]) * 100\n",
    "    edu_unemploy_rate = np.sum(a[1:4]) / np.sum(a[0:4]) * 100\n",
    "    edu_activity_rate = np.sum(a[0:4]) / np.sum(a[0:8]) * 100\n",
    "    edu_employ[d[str(i)]] = edu_employ_rate\n",
    "    edu_unemploy[d[str(i)]] = edu_unemploy_rate\n",
    "    edu_activity[d[str(i)]] = edu_activity_rate\n",
    "    \n",
    "print('\\n tassi licenza elementare \\n')\n",
    "\n",
    "edu_tax = pd.DataFrame(list(edu_employ.items()), columns=['Territorio', 'Occupazione'])\n",
    "elem_tax = edu_tax.assign(Disoccupazione = edu_unemploy.values(), Attività = edu_activity.values())\n",
    "elem_tax"
   ]
  },
  {
   "cell_type": "code",
   "execution_count": 97,
   "id": "a0131054",
   "metadata": {},
   "outputs": [
    {
     "name": "stdout",
     "output_type": "stream",
     "text": [
      "\n",
      " tassi licenza media \n",
      "\n"
     ]
    },
    {
     "data": {
      "text/html": [
       "<div>\n",
       "<style scoped>\n",
       "    .dataframe tbody tr th:only-of-type {\n",
       "        vertical-align: middle;\n",
       "    }\n",
       "\n",
       "    .dataframe tbody tr th {\n",
       "        vertical-align: top;\n",
       "    }\n",
       "\n",
       "    .dataframe thead th {\n",
       "        text-align: right;\n",
       "    }\n",
       "</style>\n",
       "<table border=\"1\" class=\"dataframe\">\n",
       "  <thead>\n",
       "    <tr style=\"text-align: right;\">\n",
       "      <th></th>\n",
       "      <th>Territorio</th>\n",
       "      <th>Occupazione</th>\n",
       "      <th>Disoccupazione</th>\n",
       "      <th>Attività</th>\n",
       "    </tr>\n",
       "  </thead>\n",
       "  <tbody>\n",
       "    <tr>\n",
       "      <th>0</th>\n",
       "      <td>Nord ovest</td>\n",
       "      <td>56.587191</td>\n",
       "      <td>8.028646</td>\n",
       "      <td>61.526973</td>\n",
       "    </tr>\n",
       "    <tr>\n",
       "      <th>1</th>\n",
       "      <td>Nord est</td>\n",
       "      <td>54.064216</td>\n",
       "      <td>8.167156</td>\n",
       "      <td>58.872418</td>\n",
       "    </tr>\n",
       "    <tr>\n",
       "      <th>2</th>\n",
       "      <td>Centro</td>\n",
       "      <td>51.883550</td>\n",
       "      <td>9.350444</td>\n",
       "      <td>57.235305</td>\n",
       "    </tr>\n",
       "    <tr>\n",
       "      <th>3</th>\n",
       "      <td>Sud</td>\n",
       "      <td>37.221450</td>\n",
       "      <td>19.769804</td>\n",
       "      <td>46.393318</td>\n",
       "    </tr>\n",
       "    <tr>\n",
       "      <th>4</th>\n",
       "      <td>Isole</td>\n",
       "      <td>35.007163</td>\n",
       "      <td>20.906207</td>\n",
       "      <td>44.260317</td>\n",
       "    </tr>\n",
       "  </tbody>\n",
       "</table>\n",
       "</div>"
      ],
      "text/plain": [
       "   Territorio  Occupazione  Disoccupazione   Attività\n",
       "0  Nord ovest    56.587191        8.028646  61.526973\n",
       "1    Nord est    54.064216        8.167156  58.872418\n",
       "2      Centro    51.883550        9.350444  57.235305\n",
       "3         Sud    37.221450       19.769804  46.393318\n",
       "4       Isole    35.007163       20.906207  44.260317"
      ]
     },
     "execution_count": 97,
     "metadata": {},
     "output_type": "execute_result"
    }
   ],
   "source": [
    "d = {'1': 'Nord ovest', '2': 'Nord est', '3': 'Centro', '4': 'Sud', '5': 'Isole'}\n",
    "edu_employ = dict()\n",
    "edu_unemploy = dict()\n",
    "edu_activity = dict()\n",
    "for i in range(1,6):\n",
    "    a = df[((df.RIP5 == i) & (df.EDULEV == 3))]\n",
    "    a = a.groupby(by = ['COND10'])['COEFMI'].sum()/10000\n",
    "    a = np.array(a)\n",
    "    edu_employ_rate = a[0] / np.sum(a[0:8]) * 100\n",
    "    edu_unemploy_rate = np.sum(a[1:4]) / np.sum(a[0:4]) * 100\n",
    "    edu_activity_rate = np.sum(a[0:4]) / np.sum(a[0:8]) * 100\n",
    "    edu_employ[d[str(i)]] = edu_employ_rate\n",
    "    edu_unemploy[d[str(i)]] = edu_unemploy_rate\n",
    "    edu_activity[d[str(i)]] = edu_activity_rate\n",
    "    \n",
    "print('\\n tassi licenza media \\n')\n",
    "\n",
    "edu_tax = pd.DataFrame(list(edu_employ.items()), columns=['Territorio', 'Occupazione'])\n",
    "media_tax = edu_tax.assign(Disoccupazione = edu_unemploy.values(), Attività = edu_activity.values())\n",
    "media_tax"
   ]
  },
  {
   "cell_type": "code",
   "execution_count": 98,
   "id": "a1f23e01",
   "metadata": {},
   "outputs": [
    {
     "name": "stdout",
     "output_type": "stream",
     "text": [
      "\n",
      " tassi licenza superiori \n",
      "\n"
     ]
    },
    {
     "data": {
      "text/html": [
       "<div>\n",
       "<style scoped>\n",
       "    .dataframe tbody tr th:only-of-type {\n",
       "        vertical-align: middle;\n",
       "    }\n",
       "\n",
       "    .dataframe tbody tr th {\n",
       "        vertical-align: top;\n",
       "    }\n",
       "\n",
       "    .dataframe thead th {\n",
       "        text-align: right;\n",
       "    }\n",
       "</style>\n",
       "<table border=\"1\" class=\"dataframe\">\n",
       "  <thead>\n",
       "    <tr style=\"text-align: right;\">\n",
       "      <th></th>\n",
       "      <th>Territorio</th>\n",
       "      <th>Occupazione</th>\n",
       "      <th>Disoccupazione</th>\n",
       "      <th>Attività</th>\n",
       "    </tr>\n",
       "  </thead>\n",
       "  <tbody>\n",
       "    <tr>\n",
       "      <th>0</th>\n",
       "      <td>Nord ovest</td>\n",
       "      <td>73.244023</td>\n",
       "      <td>5.910964</td>\n",
       "      <td>77.845438</td>\n",
       "    </tr>\n",
       "    <tr>\n",
       "      <th>1</th>\n",
       "      <td>Nord est</td>\n",
       "      <td>76.395032</td>\n",
       "      <td>5.525988</td>\n",
       "      <td>80.863541</td>\n",
       "    </tr>\n",
       "    <tr>\n",
       "      <th>2</th>\n",
       "      <td>Centro</td>\n",
       "      <td>66.650740</td>\n",
       "      <td>10.211923</td>\n",
       "      <td>74.231169</td>\n",
       "    </tr>\n",
       "    <tr>\n",
       "      <th>3</th>\n",
       "      <td>Sud</td>\n",
       "      <td>60.579773</td>\n",
       "      <td>13.318489</td>\n",
       "      <td>69.887767</td>\n",
       "    </tr>\n",
       "    <tr>\n",
       "      <th>4</th>\n",
       "      <td>Isole</td>\n",
       "      <td>50.860557</td>\n",
       "      <td>17.896810</td>\n",
       "      <td>61.947114</td>\n",
       "    </tr>\n",
       "  </tbody>\n",
       "</table>\n",
       "</div>"
      ],
      "text/plain": [
       "   Territorio  Occupazione  Disoccupazione   Attività\n",
       "0  Nord ovest    73.244023        5.910964  77.845438\n",
       "1    Nord est    76.395032        5.525988  80.863541\n",
       "2      Centro    66.650740       10.211923  74.231169\n",
       "3         Sud    60.579773       13.318489  69.887767\n",
       "4       Isole    50.860557       17.896810  61.947114"
      ]
     },
     "execution_count": 98,
     "metadata": {},
     "output_type": "execute_result"
    }
   ],
   "source": [
    "d = {'1': 'Nord ovest', '2': 'Nord est', '3': 'Centro', '4': 'Sud', '5': 'Isole'}\n",
    "edu_employ = dict()\n",
    "edu_unemploy = dict()\n",
    "edu_activity = dict()\n",
    "for i in range(1,6):\n",
    "    a = df[((df.RIP5 == i) & (df.EDULEV == 4))]\n",
    "    a = a.groupby(by = ['COND10'])['COEFMI'].sum()/10000\n",
    "    a = np.array(a)\n",
    "    edu_employ_rate = a[0] / np.sum(a[0:8]) * 100\n",
    "    edu_unemploy_rate = np.sum(a[1:4]) / np.sum(a[0:4]) * 100\n",
    "    edu_activity_rate = np.sum(a[0:4]) / np.sum(a[0:8]) * 100\n",
    "    edu_employ[d[str(i)]] = edu_employ_rate\n",
    "    edu_unemploy[d[str(i)]] = edu_unemploy_rate\n",
    "    edu_activity[d[str(i)]] = edu_activity_rate\n",
    "    \n",
    "print('\\n tassi licenza superiori \\n')\n",
    "\n",
    "edu_tax = pd.DataFrame(list(edu_employ.items()), columns=['Territorio', 'Occupazione'])\n",
    "super_tax = edu_tax.assign(Disoccupazione = edu_unemploy.values(), Attività = edu_activity.values())\n",
    "super_tax"
   ]
  },
  {
   "cell_type": "code",
   "execution_count": 99,
   "id": "193b26be",
   "metadata": {},
   "outputs": [
    {
     "name": "stdout",
     "output_type": "stream",
     "text": [
      "\n",
      " tassi diploma superiori \n",
      "\n"
     ]
    },
    {
     "data": {
      "text/html": [
       "<div>\n",
       "<style scoped>\n",
       "    .dataframe tbody tr th:only-of-type {\n",
       "        vertical-align: middle;\n",
       "    }\n",
       "\n",
       "    .dataframe tbody tr th {\n",
       "        vertical-align: top;\n",
       "    }\n",
       "\n",
       "    .dataframe thead th {\n",
       "        text-align: right;\n",
       "    }\n",
       "</style>\n",
       "<table border=\"1\" class=\"dataframe\">\n",
       "  <thead>\n",
       "    <tr style=\"text-align: right;\">\n",
       "      <th></th>\n",
       "      <th>Territorio</th>\n",
       "      <th>Occupazione</th>\n",
       "      <th>Disoccupazione</th>\n",
       "      <th>Attività</th>\n",
       "    </tr>\n",
       "  </thead>\n",
       "  <tbody>\n",
       "    <tr>\n",
       "      <th>0</th>\n",
       "      <td>Nord ovest</td>\n",
       "      <td>72.226416</td>\n",
       "      <td>6.984887</td>\n",
       "      <td>77.650195</td>\n",
       "    </tr>\n",
       "    <tr>\n",
       "      <th>1</th>\n",
       "      <td>Nord est</td>\n",
       "      <td>75.392295</td>\n",
       "      <td>4.721758</td>\n",
       "      <td>79.128555</td>\n",
       "    </tr>\n",
       "    <tr>\n",
       "      <th>2</th>\n",
       "      <td>Centro</td>\n",
       "      <td>65.421883</td>\n",
       "      <td>9.927359</td>\n",
       "      <td>72.632358</td>\n",
       "    </tr>\n",
       "    <tr>\n",
       "      <th>3</th>\n",
       "      <td>Sud</td>\n",
       "      <td>49.406093</td>\n",
       "      <td>17.823543</td>\n",
       "      <td>60.121956</td>\n",
       "    </tr>\n",
       "    <tr>\n",
       "      <th>4</th>\n",
       "      <td>Isole</td>\n",
       "      <td>50.650899</td>\n",
       "      <td>18.320355</td>\n",
       "      <td>62.011654</td>\n",
       "    </tr>\n",
       "  </tbody>\n",
       "</table>\n",
       "</div>"
      ],
      "text/plain": [
       "   Territorio  Occupazione  Disoccupazione   Attività\n",
       "0  Nord ovest    72.226416        6.984887  77.650195\n",
       "1    Nord est    75.392295        4.721758  79.128555\n",
       "2      Centro    65.421883        9.927359  72.632358\n",
       "3         Sud    49.406093       17.823543  60.121956\n",
       "4       Isole    50.650899       18.320355  62.011654"
      ]
     },
     "execution_count": 99,
     "metadata": {},
     "output_type": "execute_result"
    }
   ],
   "source": [
    "d = {'1': 'Nord ovest', '2': 'Nord est', '3': 'Centro', '4': 'Sud', '5': 'Isole'}\n",
    "edu_employ = dict()\n",
    "edu_unemploy = dict()\n",
    "edu_activity = dict()\n",
    "for i in range(1,6):\n",
    "    a = df[((df.RIP5 == i) & (df.EDULEV == 5))]\n",
    "    a = a.groupby(by = ['COND10'])['COEFMI'].sum()/10000\n",
    "    a = np.array(a)\n",
    "    edu_employ_rate = a[0] / np.sum(a[0:8]) * 100\n",
    "    edu_unemploy_rate = np.sum(a[1:4]) / np.sum(a[0:4]) * 100\n",
    "    edu_activity_rate = np.sum(a[0:4]) / np.sum(a[0:8]) * 100\n",
    "    edu_employ[d[str(i)]] = edu_employ_rate\n",
    "    edu_unemploy[d[str(i)]] = edu_unemploy_rate\n",
    "    edu_activity[d[str(i)]] = edu_activity_rate\n",
    "    \n",
    "print('\\n tassi diploma superiori \\n')\n",
    "\n",
    "edu_tax = pd.DataFrame(list(edu_employ.items()), columns=['Territorio', 'Occupazione'])\n",
    "diploma_tax = edu_tax.assign(Disoccupazione = edu_unemploy.values(), Attività = edu_activity.values())\n",
    "diploma_tax"
   ]
  },
  {
   "cell_type": "code",
   "execution_count": 100,
   "id": "184e1f2d",
   "metadata": {},
   "outputs": [
    {
     "name": "stdout",
     "output_type": "stream",
     "text": [
      "\n",
      " tassi laurea \n",
      "\n"
     ]
    },
    {
     "data": {
      "text/html": [
       "<div>\n",
       "<style scoped>\n",
       "    .dataframe tbody tr th:only-of-type {\n",
       "        vertical-align: middle;\n",
       "    }\n",
       "\n",
       "    .dataframe tbody tr th {\n",
       "        vertical-align: top;\n",
       "    }\n",
       "\n",
       "    .dataframe thead th {\n",
       "        text-align: right;\n",
       "    }\n",
       "</style>\n",
       "<table border=\"1\" class=\"dataframe\">\n",
       "  <thead>\n",
       "    <tr style=\"text-align: right;\">\n",
       "      <th></th>\n",
       "      <th>Territorio</th>\n",
       "      <th>Occupazione</th>\n",
       "      <th>Disoccupazione</th>\n",
       "      <th>Attività</th>\n",
       "    </tr>\n",
       "  </thead>\n",
       "  <tbody>\n",
       "    <tr>\n",
       "      <th>0</th>\n",
       "      <td>Nord ovest</td>\n",
       "      <td>83.722429</td>\n",
       "      <td>3.237226</td>\n",
       "      <td>86.523387</td>\n",
       "    </tr>\n",
       "    <tr>\n",
       "      <th>1</th>\n",
       "      <td>Nord est</td>\n",
       "      <td>83.553662</td>\n",
       "      <td>3.997394</td>\n",
       "      <td>87.032702</td>\n",
       "    </tr>\n",
       "    <tr>\n",
       "      <th>2</th>\n",
       "      <td>Centro</td>\n",
       "      <td>81.581636</td>\n",
       "      <td>5.016174</td>\n",
       "      <td>85.890029</td>\n",
       "    </tr>\n",
       "    <tr>\n",
       "      <th>3</th>\n",
       "      <td>Sud</td>\n",
       "      <td>70.195831</td>\n",
       "      <td>11.251116</td>\n",
       "      <td>79.094888</td>\n",
       "    </tr>\n",
       "    <tr>\n",
       "      <th>4</th>\n",
       "      <td>Isole</td>\n",
       "      <td>72.100176</td>\n",
       "      <td>10.185923</td>\n",
       "      <td>80.277144</td>\n",
       "    </tr>\n",
       "  </tbody>\n",
       "</table>\n",
       "</div>"
      ],
      "text/plain": [
       "   Territorio  Occupazione  Disoccupazione   Attività\n",
       "0  Nord ovest    83.722429        3.237226  86.523387\n",
       "1    Nord est    83.553662        3.997394  87.032702\n",
       "2      Centro    81.581636        5.016174  85.890029\n",
       "3         Sud    70.195831       11.251116  79.094888\n",
       "4       Isole    72.100176       10.185923  80.277144"
      ]
     },
     "execution_count": 100,
     "metadata": {},
     "output_type": "execute_result"
    }
   ],
   "source": [
    "d = {'1': 'Nord ovest', '2': 'Nord est', '3': 'Centro', '4': 'Sud', '5': 'Isole'}\n",
    "edu_employ = dict()\n",
    "edu_unemploy = dict()\n",
    "edu_activity = dict()\n",
    "for i in range(1,6):\n",
    "    a = df[((df.RIP5 == i) & (df.EDULEV == 6))]\n",
    "    a = a.groupby(by = ['COND10'])['COEFMI'].sum()/10000\n",
    "    a = np.array(a)\n",
    "    edu_employ_rate = a[0] / np.sum(a[0:8]) * 100\n",
    "    edu_unemploy_rate = np.sum(a[1:4]) / np.sum(a[0:4]) * 100\n",
    "    edu_activity_rate = np.sum(a[0:4]) / np.sum(a[0:8]) * 100\n",
    "    edu_employ[d[str(i)]] = edu_employ_rate\n",
    "    edu_unemploy[d[str(i)]] = edu_unemploy_rate\n",
    "    edu_activity[d[str(i)]] = edu_activity_rate\n",
    "    \n",
    "print('\\n tassi laurea \\n')\n",
    "\n",
    "edu_tax = pd.DataFrame(list(edu_employ.items()), columns=['Territorio', 'Occupazione'])\n",
    "laurea_tax = edu_tax.assign(Disoccupazione = edu_unemploy.values(), Attività = edu_activity.values())\n",
    "laurea_tax"
   ]
  },
  {
   "cell_type": "code",
   "execution_count": null,
   "id": "96ee2c65",
   "metadata": {},
   "outputs": [],
   "source": [
    "# fare stessa cosa per regioni"
   ]
  },
  {
   "cell_type": "code",
   "execution_count": 133,
   "id": "24fa462e",
   "metadata": {},
   "outputs": [
    {
     "data": {
      "text/plain": [
       "Text(0, 0.5, 'Tasso di disoccupazione')"
      ]
     },
     "execution_count": 133,
     "metadata": {},
     "output_type": "execute_result"
    },
    {
     "data": {
      "image/png": "[encoded data removed]",
      "text/plain": [
       "<Figure size 432x288 with 1 Axes>"
      ]
     },
     "metadata": {
      "needs_background": "light"
     },
     "output_type": "display_data"
    }
   ],
   "source": [
    "reg_tax = laurea_tax\n",
    "sns.barplot(data = reg_tax, x = 'Territorio', y = 'Disoccupazione', color='blue', \n",
    "    order= reg_tax.sort_values(by=['Disoccupazione'], ascending=False).set_index('Territorio').index).set_title('Tasso di disocccupazione per area - laurea')\n",
    "plt.xticks(rotation=85)\n",
    "plt.xlabel('Aree')\n",
    "plt.ylabel('Tasso di disoccupazione')"
   ]
  },
  {
   "cell_type": "code",
   "execution_count": 126,
   "id": "2a48878a",
   "metadata": {},
   "outputs": [
    {
     "name": "stdout",
     "output_type": "stream",
     "text": [
      "{'Abruzzo': 3.8756841314353516, 'Molise': 1.4162071801232188, 'Campania': 4.780235756330404, 'Puglia': 5.543694598976689, 'Basilicata': 2.4979774060010516, 'Calabria': 11.490621843824659, 'Sicilia': 24.112870374416275, 'Sardegna': 7.21941386999754} {'Abruzzo': 96.12431586856465, 'Molise': 98.58379281987678, 'Campania': 84.79127844442577, 'Puglia': 67.50457415538183, 'Basilicata': 76.17907926228355, 'Calabria': 16.24011474137137, 'Sicilia': 28.56080948463424, 'Sardegna': 92.78058613000245} {'Abruzzo': 100.0, 'Molise': 100.0, 'Campania': 31.43088483054231, 'Puglia': 17.05992291187293, 'Basilicata': 10.48648552885666, 'Calabria': 13.718526247194134, 'Sicilia': 33.753000559587626, 'Sardegna': 100.0}\n",
      "\n",
      " tassi nessun titolo \n",
      "\n"
     ]
    },
    {
     "data": {
      "text/html": [
       "<div>\n",
       "<style scoped>\n",
       "    .dataframe tbody tr th:only-of-type {\n",
       "        vertical-align: middle;\n",
       "    }\n",
       "\n",
       "    .dataframe tbody tr th {\n",
       "        vertical-align: top;\n",
       "    }\n",
       "\n",
       "    .dataframe thead th {\n",
       "        text-align: right;\n",
       "    }\n",
       "</style>\n",
       "<table border=\"1\" class=\"dataframe\">\n",
       "  <thead>\n",
       "    <tr style=\"text-align: right;\">\n",
       "      <th></th>\n",
       "      <th>Territorio</th>\n",
       "      <th>Occupazione</th>\n",
       "      <th>Disoccupazione</th>\n",
       "      <th>Attività</th>\n",
       "    </tr>\n",
       "  </thead>\n",
       "  <tbody>\n",
       "    <tr>\n",
       "      <th>0</th>\n",
       "      <td>Abruzzo</td>\n",
       "      <td>3.875684</td>\n",
       "      <td>96.124316</td>\n",
       "      <td>100.000000</td>\n",
       "    </tr>\n",
       "    <tr>\n",
       "      <th>1</th>\n",
       "      <td>Molise</td>\n",
       "      <td>1.416207</td>\n",
       "      <td>98.583793</td>\n",
       "      <td>100.000000</td>\n",
       "    </tr>\n",
       "    <tr>\n",
       "      <th>2</th>\n",
       "      <td>Campania</td>\n",
       "      <td>4.780236</td>\n",
       "      <td>84.791278</td>\n",
       "      <td>31.430885</td>\n",
       "    </tr>\n",
       "    <tr>\n",
       "      <th>3</th>\n",
       "      <td>Puglia</td>\n",
       "      <td>5.543695</td>\n",
       "      <td>67.504574</td>\n",
       "      <td>17.059923</td>\n",
       "    </tr>\n",
       "    <tr>\n",
       "      <th>4</th>\n",
       "      <td>Basilicata</td>\n",
       "      <td>2.497977</td>\n",
       "      <td>76.179079</td>\n",
       "      <td>10.486486</td>\n",
       "    </tr>\n",
       "    <tr>\n",
       "      <th>5</th>\n",
       "      <td>Calabria</td>\n",
       "      <td>11.490622</td>\n",
       "      <td>16.240115</td>\n",
       "      <td>13.718526</td>\n",
       "    </tr>\n",
       "    <tr>\n",
       "      <th>6</th>\n",
       "      <td>Sicilia</td>\n",
       "      <td>24.112870</td>\n",
       "      <td>28.560809</td>\n",
       "      <td>33.753001</td>\n",
       "    </tr>\n",
       "    <tr>\n",
       "      <th>7</th>\n",
       "      <td>Sardegna</td>\n",
       "      <td>7.219414</td>\n",
       "      <td>92.780586</td>\n",
       "      <td>100.000000</td>\n",
       "    </tr>\n",
       "  </tbody>\n",
       "</table>\n",
       "</div>"
      ],
      "text/plain": [
       "   Territorio  Occupazione  Disoccupazione    Attività\n",
       "0     Abruzzo     3.875684       96.124316  100.000000\n",
       "1      Molise     1.416207       98.583793  100.000000\n",
       "2    Campania     4.780236       84.791278   31.430885\n",
       "3      Puglia     5.543695       67.504574   17.059923\n",
       "4  Basilicata     2.497977       76.179079   10.486486\n",
       "5    Calabria    11.490622       16.240115   13.718526\n",
       "6     Sicilia    24.112870       28.560809   33.753001\n",
       "7    Sardegna     7.219414       92.780586  100.000000"
      ]
     },
     "execution_count": 126,
     "metadata": {},
     "output_type": "execute_result"
    }
   ],
   "source": [
    "occupazione_regioni_istruzione = dict()\n",
    "disoccupazione_regioni_istruzione = dict()\n",
    "attività_regioni_istruzione = dict()\n",
    "for i in range(13,21):\n",
    "    a = df[((df.REG == i) & (df.EDULEV == 1))]\n",
    "    a = a.groupby(by=['COND10'])['COEFMI'].sum()/10000\n",
    "    a = np.array(a)\n",
    "    edu_employ_rate = a[0] / np.sum(a[0:8]) * 100\n",
    "    edu_unemploy_rate = np.sum(a[1:4]) / np.sum(a[0:4]) * 100\n",
    "    edu_activity_rate = np.sum(a[0:4]) / np.sum(a[0:8]) * 100\n",
    "    occupazione_regioni_istruzione[d2[str(i)]] = edu_employ_rate\n",
    "    disoccupazione_regioni_istruzione[d2[str(i)]] = edu_unemploy_rate\n",
    "    attività_regioni_istruzione[d2[str(i)]] = edu_activity_rate\n",
    "print(occupazione_regioni_istruzione, disoccupazione_regioni_istruzione, attività_regioni_istruzione)\n",
    "\n",
    "print('\\n tassi nessun titolo \\n')\n",
    "\n",
    "tassi_regioni_istruzione = pd.DataFrame(list(occupazione_regioni_istruzione.items()), columns=['Territorio', 'Occupazione'])\n",
    "tassi_regioni_nessuno = tassi_regioni_istruzione.assign(Disoccupazione = disoccupazione_regioni_istruzione.values(), Attività = attività_regioni_istruzione.values())\n",
    "tassi_regioni_nessuno"
   ]
  },
  {
   "cell_type": "code",
   "execution_count": 117,
   "id": "f58d4e84",
   "metadata": {},
   "outputs": [
    {
     "name": "stdout",
     "output_type": "stream",
     "text": [
      "{'Abruzzo': 6.689461844609794, 'Molise': 10.08667627568018, 'Campania': 26.209912073824476, 'Puglia': 7.8897731977733825, 'Basilicata': 8.263984513760004, 'Calabria': 33.06100229796425, 'Sicilia': 25.985005624857415, 'Sardegna': 8.870214250328253} {'Abruzzo': 27.840578195230485, 'Molise': 47.327810857633686, 'Campania': 27.21152712943937, 'Puglia': 36.75803826660608, 'Basilicata': 33.861285986184505, 'Calabria': 13.809704657013222, 'Sicilia': 27.57565702441285, 'Sardegna': 28.245394181482737} {'Abruzzo': 9.270392801522755, 'Molise': 19.149908974577002, 'Campania': 36.00832802253378, 'Puglia': 12.475535200874882, 'Basilicata': 12.494927724227848, 'Calabria': 38.358149448729534, 'Sicilia': 35.87882824648676, 'Sardegna': 12.361874403941291}\n",
      "\n",
      " tassi licenza elementare \n",
      "\n"
     ]
    },
    {
     "data": {
      "text/html": [
       "<div>\n",
       "<style scoped>\n",
       "    .dataframe tbody tr th:only-of-type {\n",
       "        vertical-align: middle;\n",
       "    }\n",
       "\n",
       "    .dataframe tbody tr th {\n",
       "        vertical-align: top;\n",
       "    }\n",
       "\n",
       "    .dataframe thead th {\n",
       "        text-align: right;\n",
       "    }\n",
       "</style>\n",
       "<table border=\"1\" class=\"dataframe\">\n",
       "  <thead>\n",
       "    <tr style=\"text-align: right;\">\n",
       "      <th></th>\n",
       "      <th>Territorio</th>\n",
       "      <th>Occupazione</th>\n",
       "      <th>Disoccupazione</th>\n",
       "      <th>Attività</th>\n",
       "    </tr>\n",
       "  </thead>\n",
       "  <tbody>\n",
       "    <tr>\n",
       "      <th>0</th>\n",
       "      <td>Abruzzo</td>\n",
       "      <td>6.689462</td>\n",
       "      <td>27.840578</td>\n",
       "      <td>9.270393</td>\n",
       "    </tr>\n",
       "    <tr>\n",
       "      <th>1</th>\n",
       "      <td>Molise</td>\n",
       "      <td>10.086676</td>\n",
       "      <td>47.327811</td>\n",
       "      <td>19.149909</td>\n",
       "    </tr>\n",
       "    <tr>\n",
       "      <th>2</th>\n",
       "      <td>Campania</td>\n",
       "      <td>26.209912</td>\n",
       "      <td>27.211527</td>\n",
       "      <td>36.008328</td>\n",
       "    </tr>\n",
       "    <tr>\n",
       "      <th>3</th>\n",
       "      <td>Puglia</td>\n",
       "      <td>7.889773</td>\n",
       "      <td>36.758038</td>\n",
       "      <td>12.475535</td>\n",
       "    </tr>\n",
       "    <tr>\n",
       "      <th>4</th>\n",
       "      <td>Basilicata</td>\n",
       "      <td>8.263985</td>\n",
       "      <td>33.861286</td>\n",
       "      <td>12.494928</td>\n",
       "    </tr>\n",
       "    <tr>\n",
       "      <th>5</th>\n",
       "      <td>Calabria</td>\n",
       "      <td>33.061002</td>\n",
       "      <td>13.809705</td>\n",
       "      <td>38.358149</td>\n",
       "    </tr>\n",
       "    <tr>\n",
       "      <th>6</th>\n",
       "      <td>Sicilia</td>\n",
       "      <td>25.985006</td>\n",
       "      <td>27.575657</td>\n",
       "      <td>35.878828</td>\n",
       "    </tr>\n",
       "    <tr>\n",
       "      <th>7</th>\n",
       "      <td>Sardegna</td>\n",
       "      <td>8.870214</td>\n",
       "      <td>28.245394</td>\n",
       "      <td>12.361874</td>\n",
       "    </tr>\n",
       "  </tbody>\n",
       "</table>\n",
       "</div>"
      ],
      "text/plain": [
       "   Territorio  Occupazione  Disoccupazione   Attività\n",
       "0     Abruzzo     6.689462       27.840578   9.270393\n",
       "1      Molise    10.086676       47.327811  19.149909\n",
       "2    Campania    26.209912       27.211527  36.008328\n",
       "3      Puglia     7.889773       36.758038  12.475535\n",
       "4  Basilicata     8.263985       33.861286  12.494928\n",
       "5    Calabria    33.061002       13.809705  38.358149\n",
       "6     Sicilia    25.985006       27.575657  35.878828\n",
       "7    Sardegna     8.870214       28.245394  12.361874"
      ]
     },
     "execution_count": 117,
     "metadata": {},
     "output_type": "execute_result"
    }
   ],
   "source": [
    "occupazione_regioni_istruzione = dict()\n",
    "disoccupazione_regioni_istruzione = dict()\n",
    "attività_regioni_istruzione = dict()\n",
    "for i in range(13,21):\n",
    "    a = df[((df.REG == i) & (df.EDULEV == 2))]\n",
    "    a = a.groupby(by=['COND10'])['COEFMI'].sum()/10000\n",
    "    a = np.array(a)\n",
    "    edu_employ_rate = a[0] / np.sum(a[0:8]) * 100\n",
    "    edu_unemploy_rate = np.sum(a[1:4]) / np.sum(a[0:4]) * 100\n",
    "    edu_activity_rate = np.sum(a[0:4]) / np.sum(a[0:8]) * 100\n",
    "    occupazione_regioni_istruzione[d2[str(i)]] = edu_employ_rate\n",
    "    disoccupazione_regioni_istruzione[d2[str(i)]] = edu_unemploy_rate\n",
    "    attività_regioni_istruzione[d2[str(i)]] = edu_activity_rate\n",
    "print(occupazione_regioni_istruzione, disoccupazione_regioni_istruzione, attività_regioni_istruzione)\n",
    "\n",
    "print('\\n tassi licenza elementare \\n')\n",
    "\n",
    "tassi_regioni_istruzione = pd.DataFrame(list(occupazione_regioni_istruzione.items()), columns=['Territorio', 'Occupazione'])\n",
    "tassi_regioni_elem = tassi_regioni_istruzione.assign(Disoccupazione = disoccupazione_regioni_istruzione.values(), Attività = attività_regioni_istruzione.values())\n",
    "tassi_regioni_elem"
   ]
  },
  {
   "cell_type": "code",
   "execution_count": 118,
   "id": "77a98ba5",
   "metadata": {},
   "outputs": [
    {
     "name": "stdout",
     "output_type": "stream",
     "text": [
      "{'Abruzzo': 44.0066996093074, 'Molise': 47.86933569611832, 'Campania': 32.71901138051232, 'Puglia': 39.7062199217298, 'Basilicata': 38.78391091379907, 'Calabria': 33.909986324262405, 'Sicilia': 31.47921106322397, 'Sardegna': 45.73768261876939} {'Abruzzo': 14.52278605970485, 'Molise': 9.763869332201821, 'Campania': 25.553484255664838, 'Puglia': 15.049431266149025, 'Basilicata': 8.714304132018308, 'Calabria': 24.73572597188923, 'Sicilia': 22.946828930127065, 'Sardegna': 16.263916490284767} {'Abruzzo': 51.48354465559157, 'Molise': 53.048967571923015, 'Campania': 43.94968797851631, 'Puglia': 46.740381510721676, 'Basilicata': 42.48629595800941, 'Calabria': 45.054558437110835, 'Sicilia': 40.85388132135168, 'Sardegna': 54.62123460009067}\n",
      "\n",
      " tassi licenza media \n",
      "\n"
     ]
    },
    {
     "data": {
      "text/html": [
       "<div>\n",
       "<style scoped>\n",
       "    .dataframe tbody tr th:only-of-type {\n",
       "        vertical-align: middle;\n",
       "    }\n",
       "\n",
       "    .dataframe tbody tr th {\n",
       "        vertical-align: top;\n",
       "    }\n",
       "\n",
       "    .dataframe thead th {\n",
       "        text-align: right;\n",
       "    }\n",
       "</style>\n",
       "<table border=\"1\" class=\"dataframe\">\n",
       "  <thead>\n",
       "    <tr style=\"text-align: right;\">\n",
       "      <th></th>\n",
       "      <th>Territorio</th>\n",
       "      <th>Occupazione</th>\n",
       "      <th>Disoccupazione</th>\n",
       "      <th>Attività</th>\n",
       "    </tr>\n",
       "  </thead>\n",
       "  <tbody>\n",
       "    <tr>\n",
       "      <th>0</th>\n",
       "      <td>Abruzzo</td>\n",
       "      <td>44.006700</td>\n",
       "      <td>14.522786</td>\n",
       "      <td>51.483545</td>\n",
       "    </tr>\n",
       "    <tr>\n",
       "      <th>1</th>\n",
       "      <td>Molise</td>\n",
       "      <td>47.869336</td>\n",
       "      <td>9.763869</td>\n",
       "      <td>53.048968</td>\n",
       "    </tr>\n",
       "    <tr>\n",
       "      <th>2</th>\n",
       "      <td>Campania</td>\n",
       "      <td>32.719011</td>\n",
       "      <td>25.553484</td>\n",
       "      <td>43.949688</td>\n",
       "    </tr>\n",
       "    <tr>\n",
       "      <th>3</th>\n",
       "      <td>Puglia</td>\n",
       "      <td>39.706220</td>\n",
       "      <td>15.049431</td>\n",
       "      <td>46.740382</td>\n",
       "    </tr>\n",
       "    <tr>\n",
       "      <th>4</th>\n",
       "      <td>Basilicata</td>\n",
       "      <td>38.783911</td>\n",
       "      <td>8.714304</td>\n",
       "      <td>42.486296</td>\n",
       "    </tr>\n",
       "    <tr>\n",
       "      <th>5</th>\n",
       "      <td>Calabria</td>\n",
       "      <td>33.909986</td>\n",
       "      <td>24.735726</td>\n",
       "      <td>45.054558</td>\n",
       "    </tr>\n",
       "    <tr>\n",
       "      <th>6</th>\n",
       "      <td>Sicilia</td>\n",
       "      <td>31.479211</td>\n",
       "      <td>22.946829</td>\n",
       "      <td>40.853881</td>\n",
       "    </tr>\n",
       "    <tr>\n",
       "      <th>7</th>\n",
       "      <td>Sardegna</td>\n",
       "      <td>45.737683</td>\n",
       "      <td>16.263916</td>\n",
       "      <td>54.621235</td>\n",
       "    </tr>\n",
       "  </tbody>\n",
       "</table>\n",
       "</div>"
      ],
      "text/plain": [
       "   Territorio  Occupazione  Disoccupazione   Attività\n",
       "0     Abruzzo    44.006700       14.522786  51.483545\n",
       "1      Molise    47.869336        9.763869  53.048968\n",
       "2    Campania    32.719011       25.553484  43.949688\n",
       "3      Puglia    39.706220       15.049431  46.740382\n",
       "4  Basilicata    38.783911        8.714304  42.486296\n",
       "5    Calabria    33.909986       24.735726  45.054558\n",
       "6     Sicilia    31.479211       22.946829  40.853881\n",
       "7    Sardegna    45.737683       16.263916  54.621235"
      ]
     },
     "execution_count": 118,
     "metadata": {},
     "output_type": "execute_result"
    }
   ],
   "source": [
    "occupazione_regioni_istruzione = dict()\n",
    "disoccupazione_regioni_istruzione = dict()\n",
    "attività_regioni_istruzione = dict()\n",
    "for i in range(13,21):\n",
    "    a = df[((df.REG == i) & (df.EDULEV == 3))]\n",
    "    a = a.groupby(by=['COND10'])['COEFMI'].sum()/10000\n",
    "    a = np.array(a)\n",
    "    edu_employ_rate = a[0] / np.sum(a[0:8]) * 100\n",
    "    edu_unemploy_rate = np.sum(a[1:4]) / np.sum(a[0:4]) * 100\n",
    "    edu_activity_rate = np.sum(a[0:4]) / np.sum(a[0:8]) * 100\n",
    "    occupazione_regioni_istruzione[d2[str(i)]] = edu_employ_rate\n",
    "    disoccupazione_regioni_istruzione[d2[str(i)]] = edu_unemploy_rate\n",
    "    attività_regioni_istruzione[d2[str(i)]] = edu_activity_rate\n",
    "print(occupazione_regioni_istruzione, disoccupazione_regioni_istruzione, attività_regioni_istruzione)\n",
    "\n",
    "print('\\n tassi licenza media \\n')\n",
    "\n",
    "tassi_regioni_istruzione = pd.DataFrame(list(occupazione_regioni_istruzione.items()), columns=['Territorio', 'Occupazione'])\n",
    "tassi_regioni_media = tassi_regioni_istruzione.assign(Disoccupazione = disoccupazione_regioni_istruzione.values(), Attività = attività_regioni_istruzione.values())\n",
    "tassi_regioni_media"
   ]
  },
  {
   "cell_type": "code",
   "execution_count": 119,
   "id": "dca76c8f",
   "metadata": {},
   "outputs": [
    {
     "name": "stdout",
     "output_type": "stream",
     "text": [
      "{'Abruzzo': 58.9024268782577, 'Molise': 58.552531805543865, 'Campania': 51.99743928187333, 'Puglia': 52.22060321356338, 'Basilicata': 51.31024186324276, 'Calabria': 38.60301867027766, 'Sicilia': 47.03132772877877, 'Sardegna': 49.744789034742375} {'Abruzzo': 12.358908314662246, 'Molise': 26.189009495082523, 'Campania': 26.17306794317635, 'Puglia': 12.413670858029136, 'Basilicata': 11.12409876594292, 'Calabria': 39.61301732579285, 'Sicilia': 19.758295900692072, 'Sardegna': 17.436250861474846} {'Abruzzo': 67.20868686772873, 'Molise': 79.32766029151571, 'Campania': 70.43153200765752, 'Puglia': 59.621865335762294, 'Basilicata': 57.73245744998508, 'Calabria': 63.92605982409187, 'Sicilia': 58.612074926240766, 'Sardegna': 60.25015767062703}\n",
      "\n",
      " tassi qualifica superiore \n",
      "\n"
     ]
    },
    {
     "data": {
      "text/html": [
       "<div>\n",
       "<style scoped>\n",
       "    .dataframe tbody tr th:only-of-type {\n",
       "        vertical-align: middle;\n",
       "    }\n",
       "\n",
       "    .dataframe tbody tr th {\n",
       "        vertical-align: top;\n",
       "    }\n",
       "\n",
       "    .dataframe thead th {\n",
       "        text-align: right;\n",
       "    }\n",
       "</style>\n",
       "<table border=\"1\" class=\"dataframe\">\n",
       "  <thead>\n",
       "    <tr style=\"text-align: right;\">\n",
       "      <th></th>\n",
       "      <th>Territorio</th>\n",
       "      <th>Occupazione</th>\n",
       "      <th>Disoccupazione</th>\n",
       "      <th>Attività</th>\n",
       "    </tr>\n",
       "  </thead>\n",
       "  <tbody>\n",
       "    <tr>\n",
       "      <th>0</th>\n",
       "      <td>Abruzzo</td>\n",
       "      <td>58.902427</td>\n",
       "      <td>12.358908</td>\n",
       "      <td>67.208687</td>\n",
       "    </tr>\n",
       "    <tr>\n",
       "      <th>1</th>\n",
       "      <td>Molise</td>\n",
       "      <td>58.552532</td>\n",
       "      <td>26.189009</td>\n",
       "      <td>79.327660</td>\n",
       "    </tr>\n",
       "    <tr>\n",
       "      <th>2</th>\n",
       "      <td>Campania</td>\n",
       "      <td>51.997439</td>\n",
       "      <td>26.173068</td>\n",
       "      <td>70.431532</td>\n",
       "    </tr>\n",
       "    <tr>\n",
       "      <th>3</th>\n",
       "      <td>Puglia</td>\n",
       "      <td>52.220603</td>\n",
       "      <td>12.413671</td>\n",
       "      <td>59.621865</td>\n",
       "    </tr>\n",
       "    <tr>\n",
       "      <th>4</th>\n",
       "      <td>Basilicata</td>\n",
       "      <td>51.310242</td>\n",
       "      <td>11.124099</td>\n",
       "      <td>57.732457</td>\n",
       "    </tr>\n",
       "    <tr>\n",
       "      <th>5</th>\n",
       "      <td>Calabria</td>\n",
       "      <td>38.603019</td>\n",
       "      <td>39.613017</td>\n",
       "      <td>63.926060</td>\n",
       "    </tr>\n",
       "    <tr>\n",
       "      <th>6</th>\n",
       "      <td>Sicilia</td>\n",
       "      <td>47.031328</td>\n",
       "      <td>19.758296</td>\n",
       "      <td>58.612075</td>\n",
       "    </tr>\n",
       "    <tr>\n",
       "      <th>7</th>\n",
       "      <td>Sardegna</td>\n",
       "      <td>49.744789</td>\n",
       "      <td>17.436251</td>\n",
       "      <td>60.250158</td>\n",
       "    </tr>\n",
       "  </tbody>\n",
       "</table>\n",
       "</div>"
      ],
      "text/plain": [
       "   Territorio  Occupazione  Disoccupazione   Attività\n",
       "0     Abruzzo    58.902427       12.358908  67.208687\n",
       "1      Molise    58.552532       26.189009  79.327660\n",
       "2    Campania    51.997439       26.173068  70.431532\n",
       "3      Puglia    52.220603       12.413671  59.621865\n",
       "4  Basilicata    51.310242       11.124099  57.732457\n",
       "5    Calabria    38.603019       39.613017  63.926060\n",
       "6     Sicilia    47.031328       19.758296  58.612075\n",
       "7    Sardegna    49.744789       17.436251  60.250158"
      ]
     },
     "execution_count": 119,
     "metadata": {},
     "output_type": "execute_result"
    }
   ],
   "source": [
    "occupazione_regioni_istruzione = dict()\n",
    "disoccupazione_regioni_istruzione = dict()\n",
    "attività_regioni_istruzione = dict()\n",
    "for i in range(13,21):\n",
    "    a = df[((df.REG == i) & (df.EDULEV == 4))]\n",
    "    a = a.groupby(by=['COND10'])['COEFMI'].sum()/10000\n",
    "    a = np.array(a)\n",
    "    edu_employ_rate = a[0] / np.sum(a[0:8]) * 100\n",
    "    edu_unemploy_rate = np.sum(a[1:4]) / np.sum(a[0:4]) * 100\n",
    "    edu_activity_rate = np.sum(a[0:4]) / np.sum(a[0:8]) * 100\n",
    "    occupazione_regioni_istruzione[d2[str(i)]] = edu_employ_rate\n",
    "    disoccupazione_regioni_istruzione[d2[str(i)]] = edu_unemploy_rate\n",
    "    attività_regioni_istruzione[d2[str(i)]] = edu_activity_rate\n",
    "print(occupazione_regioni_istruzione, disoccupazione_regioni_istruzione, attività_regioni_istruzione)\n",
    "\n",
    "print('\\n tassi qualifica superiore \\n')\n",
    "\n",
    "tassi_regioni_istruzione = pd.DataFrame(list(occupazione_regioni_istruzione.items()), columns=['Territorio', 'Occupazione'])\n",
    "tassi_regioni_sup = tassi_regioni_istruzione.assign(Disoccupazione = disoccupazione_regioni_istruzione.values(), Attività = attività_regioni_istruzione.values())\n",
    "tassi_regioni_sup"
   ]
  },
  {
   "cell_type": "code",
   "execution_count": 120,
   "id": "9a94b8d8",
   "metadata": {},
   "outputs": [
    {
     "name": "stdout",
     "output_type": "stream",
     "text": [
      "{'Abruzzo': 59.47852837161472, 'Molise': 59.18239258381979, 'Campania': 45.77929069801243, 'Puglia': 49.09730775598164, 'Basilicata': 52.18454601743217, 'Calabria': 49.88503380420022, 'Sicilia': 49.221821708915904, 'Sardegna': 55.101471846998166} {'Abruzzo': 15.629261139110378, 'Molise': 11.864094185057525, 'Campania': 18.258335803892628, 'Puglia': 18.868774162834516, 'Basilicata': 9.086614417149407, 'Calabria': 20.46060340234166, 'Sicilia': 18.380516453414273, 'Sardegna': 18.152518259230984} {'Abruzzo': 70.49663091096411, 'Molise': 67.14901496341807, 'Campania': 56.00484299926022, 'Puglia': 60.51592004109793, 'Basilicata': 57.40028894851318, 'Calabria': 62.71739029721134, 'Sicilia': 60.306460626918444, 'Sardegna': 67.32213462781665}\n",
      "\n",
      " tassi diploma superiori \n",
      "\n"
     ]
    },
    {
     "data": {
      "text/html": [
       "<div>\n",
       "<style scoped>\n",
       "    .dataframe tbody tr th:only-of-type {\n",
       "        vertical-align: middle;\n",
       "    }\n",
       "\n",
       "    .dataframe tbody tr th {\n",
       "        vertical-align: top;\n",
       "    }\n",
       "\n",
       "    .dataframe thead th {\n",
       "        text-align: right;\n",
       "    }\n",
       "</style>\n",
       "<table border=\"1\" class=\"dataframe\">\n",
       "  <thead>\n",
       "    <tr style=\"text-align: right;\">\n",
       "      <th></th>\n",
       "      <th>Territorio</th>\n",
       "      <th>Occupazione</th>\n",
       "      <th>Disoccupazione</th>\n",
       "      <th>Attività</th>\n",
       "    </tr>\n",
       "  </thead>\n",
       "  <tbody>\n",
       "    <tr>\n",
       "      <th>0</th>\n",
       "      <td>Abruzzo</td>\n",
       "      <td>59.478528</td>\n",
       "      <td>15.629261</td>\n",
       "      <td>70.496631</td>\n",
       "    </tr>\n",
       "    <tr>\n",
       "      <th>1</th>\n",
       "      <td>Molise</td>\n",
       "      <td>59.182393</td>\n",
       "      <td>11.864094</td>\n",
       "      <td>67.149015</td>\n",
       "    </tr>\n",
       "    <tr>\n",
       "      <th>2</th>\n",
       "      <td>Campania</td>\n",
       "      <td>45.779291</td>\n",
       "      <td>18.258336</td>\n",
       "      <td>56.004843</td>\n",
       "    </tr>\n",
       "    <tr>\n",
       "      <th>3</th>\n",
       "      <td>Puglia</td>\n",
       "      <td>49.097308</td>\n",
       "      <td>18.868774</td>\n",
       "      <td>60.515920</td>\n",
       "    </tr>\n",
       "    <tr>\n",
       "      <th>4</th>\n",
       "      <td>Basilicata</td>\n",
       "      <td>52.184546</td>\n",
       "      <td>9.086614</td>\n",
       "      <td>57.400289</td>\n",
       "    </tr>\n",
       "    <tr>\n",
       "      <th>5</th>\n",
       "      <td>Calabria</td>\n",
       "      <td>49.885034</td>\n",
       "      <td>20.460603</td>\n",
       "      <td>62.717390</td>\n",
       "    </tr>\n",
       "    <tr>\n",
       "      <th>6</th>\n",
       "      <td>Sicilia</td>\n",
       "      <td>49.221822</td>\n",
       "      <td>18.380516</td>\n",
       "      <td>60.306461</td>\n",
       "    </tr>\n",
       "    <tr>\n",
       "      <th>7</th>\n",
       "      <td>Sardegna</td>\n",
       "      <td>55.101472</td>\n",
       "      <td>18.152518</td>\n",
       "      <td>67.322135</td>\n",
       "    </tr>\n",
       "  </tbody>\n",
       "</table>\n",
       "</div>"
      ],
      "text/plain": [
       "   Territorio  Occupazione  Disoccupazione   Attività\n",
       "0     Abruzzo    59.478528       15.629261  70.496631\n",
       "1      Molise    59.182393       11.864094  67.149015\n",
       "2    Campania    45.779291       18.258336  56.004843\n",
       "3      Puglia    49.097308       18.868774  60.515920\n",
       "4  Basilicata    52.184546        9.086614  57.400289\n",
       "5    Calabria    49.885034       20.460603  62.717390\n",
       "6     Sicilia    49.221822       18.380516  60.306461\n",
       "7    Sardegna    55.101472       18.152518  67.322135"
      ]
     },
     "execution_count": 120,
     "metadata": {},
     "output_type": "execute_result"
    }
   ],
   "source": [
    "occupazione_regioni_istruzione = dict()\n",
    "disoccupazione_regioni_istruzione = dict()\n",
    "attività_regioni_istruzione = dict()\n",
    "for i in range(13,21):\n",
    "    a = df[((df.REG == i) & (df.EDULEV == 5))]\n",
    "    a = a.groupby(by=['COND10'])['COEFMI'].sum()/10000\n",
    "    a = np.array(a)\n",
    "    edu_employ_rate = a[0] / np.sum(a[0:8]) * 100\n",
    "    edu_unemploy_rate = np.sum(a[1:4]) / np.sum(a[0:4]) * 100\n",
    "    edu_activity_rate = np.sum(a[0:4]) / np.sum(a[0:8]) * 100\n",
    "    occupazione_regioni_istruzione[d2[str(i)]] = edu_employ_rate\n",
    "    disoccupazione_regioni_istruzione[d2[str(i)]] = edu_unemploy_rate\n",
    "    attività_regioni_istruzione[d2[str(i)]] = edu_activity_rate\n",
    "print(occupazione_regioni_istruzione, disoccupazione_regioni_istruzione, attività_regioni_istruzione)\n",
    "\n",
    "print('\\n tassi diploma superiori \\n')\n",
    "\n",
    "tassi_regioni_istruzione = pd.DataFrame(list(occupazione_regioni_istruzione.items()), columns=['Territorio', 'Occupazione'])\n",
    "tassi_regioni_diploma = tassi_regioni_istruzione.assign(Disoccupazione = disoccupazione_regioni_istruzione.values(), Attività = attività_regioni_istruzione.values())\n",
    "tassi_regioni_diploma"
   ]
  },
  {
   "cell_type": "code",
   "execution_count": 121,
   "id": "21e0b081",
   "metadata": {},
   "outputs": [
    {
     "name": "stdout",
     "output_type": "stream",
     "text": [
      "{'Abruzzo': 64.83530925017503, 'Molise': 73.58091912936254, 'Campania': 66.05751446528603, 'Puglia': 65.98985423456386, 'Basilicata': 71.38107982401965, 'Calabria': 56.7938902285041, 'Sicilia': 69.96487781762781, 'Sardegna': 77.00916052858047} {'Abruzzo': 9.744689807019816, 'Molise': 7.673920318482687, 'Campania': 14.636055100442732, 'Puglia': 6.445252404612047, 'Basilicata': 11.797529177609498, 'Calabria': 18.789528387977704, 'Sicilia': 10.41818710781943, 'Sardegna': 9.696891958042873} {'Abruzzo': 71.83545113472752, 'Molise': 79.69678706513156, 'Campania': 77.38339007529704, 'Puglia': 70.53608280785639, 'Basilicata': 80.92866238152969, 'Calabria': 69.934195801538, 'Sicilia': 78.10165429654406, 'Sardegna': 85.27852717184446}\n",
      "\n",
      " tassi laurea \n",
      "\n"
     ]
    },
    {
     "data": {
      "text/html": [
       "<div>\n",
       "<style scoped>\n",
       "    .dataframe tbody tr th:only-of-type {\n",
       "        vertical-align: middle;\n",
       "    }\n",
       "\n",
       "    .dataframe tbody tr th {\n",
       "        vertical-align: top;\n",
       "    }\n",
       "\n",
       "    .dataframe thead th {\n",
       "        text-align: right;\n",
       "    }\n",
       "</style>\n",
       "<table border=\"1\" class=\"dataframe\">\n",
       "  <thead>\n",
       "    <tr style=\"text-align: right;\">\n",
       "      <th></th>\n",
       "      <th>Territorio</th>\n",
       "      <th>Occupazione</th>\n",
       "      <th>Disoccupazione</th>\n",
       "      <th>Attività</th>\n",
       "    </tr>\n",
       "  </thead>\n",
       "  <tbody>\n",
       "    <tr>\n",
       "      <th>0</th>\n",
       "      <td>Abruzzo</td>\n",
       "      <td>64.835309</td>\n",
       "      <td>9.744690</td>\n",
       "      <td>71.835451</td>\n",
       "    </tr>\n",
       "    <tr>\n",
       "      <th>1</th>\n",
       "      <td>Molise</td>\n",
       "      <td>73.580919</td>\n",
       "      <td>7.673920</td>\n",
       "      <td>79.696787</td>\n",
       "    </tr>\n",
       "    <tr>\n",
       "      <th>2</th>\n",
       "      <td>Campania</td>\n",
       "      <td>66.057514</td>\n",
       "      <td>14.636055</td>\n",
       "      <td>77.383390</td>\n",
       "    </tr>\n",
       "    <tr>\n",
       "      <th>3</th>\n",
       "      <td>Puglia</td>\n",
       "      <td>65.989854</td>\n",
       "      <td>6.445252</td>\n",
       "      <td>70.536083</td>\n",
       "    </tr>\n",
       "    <tr>\n",
       "      <th>4</th>\n",
       "      <td>Basilicata</td>\n",
       "      <td>71.381080</td>\n",
       "      <td>11.797529</td>\n",
       "      <td>80.928662</td>\n",
       "    </tr>\n",
       "    <tr>\n",
       "      <th>5</th>\n",
       "      <td>Calabria</td>\n",
       "      <td>56.793890</td>\n",
       "      <td>18.789528</td>\n",
       "      <td>69.934196</td>\n",
       "    </tr>\n",
       "    <tr>\n",
       "      <th>6</th>\n",
       "      <td>Sicilia</td>\n",
       "      <td>69.964878</td>\n",
       "      <td>10.418187</td>\n",
       "      <td>78.101654</td>\n",
       "    </tr>\n",
       "    <tr>\n",
       "      <th>7</th>\n",
       "      <td>Sardegna</td>\n",
       "      <td>77.009161</td>\n",
       "      <td>9.696892</td>\n",
       "      <td>85.278527</td>\n",
       "    </tr>\n",
       "  </tbody>\n",
       "</table>\n",
       "</div>"
      ],
      "text/plain": [
       "   Territorio  Occupazione  Disoccupazione   Attività\n",
       "0     Abruzzo    64.835309        9.744690  71.835451\n",
       "1      Molise    73.580919        7.673920  79.696787\n",
       "2    Campania    66.057514       14.636055  77.383390\n",
       "3      Puglia    65.989854        6.445252  70.536083\n",
       "4  Basilicata    71.381080       11.797529  80.928662\n",
       "5    Calabria    56.793890       18.789528  69.934196\n",
       "6     Sicilia    69.964878       10.418187  78.101654\n",
       "7    Sardegna    77.009161        9.696892  85.278527"
      ]
     },
     "execution_count": 121,
     "metadata": {},
     "output_type": "execute_result"
    }
   ],
   "source": [
    "occupazione_regioni_istruzione = dict()\n",
    "disoccupazione_regioni_istruzione = dict()\n",
    "attività_regioni_istruzione = dict()\n",
    "for i in range(13,21):\n",
    "    a = df[((df.REG == i) & (df.EDULEV == 6))]\n",
    "    a = a.groupby(by=['COND10'])['COEFMI'].sum()/10000\n",
    "    a = np.array(a)\n",
    "    edu_employ_rate = a[0] / np.sum(a[0:8]) * 100\n",
    "    edu_unemploy_rate = np.sum(a[1:4]) / np.sum(a[0:4]) * 100\n",
    "    edu_activity_rate = np.sum(a[0:4]) / np.sum(a[0:8]) * 100\n",
    "    occupazione_regioni_istruzione[d2[str(i)]] = edu_employ_rate\n",
    "    disoccupazione_regioni_istruzione[d2[str(i)]] = edu_unemploy_rate\n",
    "    attività_regioni_istruzione[d2[str(i)]] = edu_activity_rate\n",
    "print(occupazione_regioni_istruzione, disoccupazione_regioni_istruzione, attività_regioni_istruzione)\n",
    "\n",
    "print('\\n tassi laurea \\n')\n",
    "\n",
    "tassi_regioni_istruzione = pd.DataFrame(list(occupazione_regioni_istruzione.items()), columns=['Territorio', 'Occupazione'])\n",
    "tassi_regioni_laurea = tassi_regioni_istruzione.assign(Disoccupazione = disoccupazione_regioni_istruzione.values(), Attività = attività_regioni_istruzione.values())\n",
    "tassi_regioni_laurea"
   ]
  },
  {
   "cell_type": "code",
   "execution_count": 131,
   "id": "d208dc11",
   "metadata": {},
   "outputs": [
    {
     "data": {
      "text/plain": [
       "Text(0, 0.5, 'Tasso di disoccupazione')"
      ]
     },
     "execution_count": 131,
     "metadata": {},
     "output_type": "execute_result"
    },
    {
     "data": {
      "image/png": "[encoded data removed]",
      "text/plain": [
       "<Figure size 432x288 with 1 Axes>"
      ]
     },
     "metadata": {
      "needs_background": "light"
     },
     "output_type": "display_data"
    }
   ],
   "source": [
    "tassi_regioni = tassi_regioni_laurea\n",
    "sns.barplot(data = tassi_regioni, x = 'Territorio', y = 'Disoccupazione', color='blue', \n",
    "    order=tassi_regioni.sort_values(by=['Disoccupazione'], ascending=False).set_index('Territorio').index).set_title('Tasso di disocccupazione per regione - laurea')\n",
    "plt.xticks(rotation=85)\n",
    "plt.xlabel('Regioni')\n",
    "plt.ylabel('Tasso di disoccupazione')"
   ]
  },
  {
   "cell_type": "markdown",
   "id": "8ab6fa1e",
   "metadata": {},
   "source": [
    "# # Analisi di come è stato trovato l'impiego"
   ]
  },
  {
   "cell_type": "code",
   "execution_count": 163,
   "id": "b86e9bcf",
   "metadata": {},
   "outputs": [
    {
     "data": {
      "text/plain": [
       "(array([  366., 17951.,    26.]), 18343.0)"
      ]
     },
     "execution_count": 163,
     "metadata": {},
     "output_type": "execute_result"
    }
   ],
   "source": [
    "a = df[(df.C59 != '   ') & (df.C59 != '997')]\n",
    "a = round(a.groupby(by=['C59'])['COEFMI'].sum()/10000)\n",
    "a = np.array(a)\n",
    "a, np.sum(a)"
   ]
  },
  {
   "cell_type": "code",
   "execution_count": 180,
   "id": "6bd2a9e6",
   "metadata": {},
   "outputs": [
    {
     "ename": "ValueError",
     "evalue": "too many values to unpack (expected 2)",
     "output_type": "error",
     "traceback": [
      "\u001b[1;31m---------------------------------------------------------------------------\u001b[0m",
      "\u001b[1;31mValueError\u001b[0m                                Traceback (most recent call last)",
      "\u001b[1;32m<ipython-input-180-a70cd302c52a>\u001b[0m in \u001b[0;36m<module>\u001b[1;34m\u001b[0m\n\u001b[0;32m      2\u001b[0m \u001b[0mlabels\u001b[0m \u001b[1;33m=\u001b[0m \u001b[1;33m[\u001b[0m\u001b[1;34mr'Ha trovato lavoro tramite un centro pubblico'\u001b[0m\u001b[1;33m]\u001b[0m\u001b[1;33m\u001b[0m\u001b[1;33m\u001b[0m\u001b[0m\n\u001b[0;32m      3\u001b[0m \u001b[0mcolors\u001b[0m \u001b[1;33m=\u001b[0m \u001b[1;33m[\u001b[0m\u001b[1;34m'lightblue'\u001b[0m\u001b[1;33m,\u001b[0m \u001b[1;34m'gold'\u001b[0m\u001b[1;33m]\u001b[0m\u001b[1;33m\u001b[0m\u001b[1;33m\u001b[0m\u001b[0m\n\u001b[1;32m----> 4\u001b[1;33m \u001b[0mpatches\u001b[0m\u001b[1;33m,\u001b[0m \u001b[0mtexts\u001b[0m \u001b[1;33m=\u001b[0m \u001b[0mplt\u001b[0m\u001b[1;33m.\u001b[0m\u001b[0mpie\u001b[0m\u001b[1;33m(\u001b[0m\u001b[0msizes\u001b[0m\u001b[1;33m,\u001b[0m \u001b[0mcolors\u001b[0m\u001b[1;33m=\u001b[0m\u001b[0mcolors\u001b[0m\u001b[1;33m,\u001b[0m \u001b[0mstartangle\u001b[0m\u001b[1;33m=\u001b[0m\u001b[1;36m90\u001b[0m\u001b[1;33m,\u001b[0m \u001b[0mautopct\u001b[0m\u001b[1;33m=\u001b[0m\u001b[1;34m'%1.0f%%'\u001b[0m\u001b[1;33m)\u001b[0m\u001b[1;33m\u001b[0m\u001b[1;33m\u001b[0m\u001b[0m\n\u001b[0m\u001b[0;32m      5\u001b[0m \u001b[0mplt\u001b[0m\u001b[1;33m.\u001b[0m\u001b[0mlegend\u001b[0m\u001b[1;33m(\u001b[0m\u001b[0mpatches\u001b[0m\u001b[1;33m,\u001b[0m\u001b[0mtitle\u001b[0m \u001b[1;33m=\u001b[0m \u001b[0mlabels\u001b[0m\u001b[1;33m,\u001b[0m \u001b[0mloc\u001b[0m\u001b[1;33m=\u001b[0m\u001b[1;34m\"center left\"\u001b[0m\u001b[1;33m,\u001b[0m \u001b[0mbbox_to_anchor\u001b[0m\u001b[1;33m=\u001b[0m\u001b[1;33m(\u001b[0m\u001b[1;36m1\u001b[0m\u001b[1;33m,\u001b[0m \u001b[1;36m0\u001b[0m\u001b[1;33m,\u001b[0m \u001b[1;36m0.5\u001b[0m\u001b[1;33m,\u001b[0m \u001b[1;36m1\u001b[0m\u001b[1;33m)\u001b[0m\u001b[1;33m)\u001b[0m\u001b[1;33m\u001b[0m\u001b[1;33m\u001b[0m\u001b[0m\n\u001b[0;32m      6\u001b[0m \u001b[1;31m# Set aspect ratio to be equal so that pie is drawn as a circle.\u001b[0m\u001b[1;33m\u001b[0m\u001b[1;33m\u001b[0m\u001b[1;33m\u001b[0m\u001b[0m\n",
      "\u001b[1;31mValueError\u001b[0m: too many values to unpack (expected 2)"
     ]
    },
    {
     "data": {
      "image/png": "[encoded data removed]",
      "text/plain": [
       "<Figure size 432x288 with 1 Axes>"
      ]
     },
     "metadata": {},
     "output_type": "display_data"
    }
   ],
   "source": [
    "modalità = ['Ha trovato questo lavoro tramite un centro pubblico per l\\'impiego']\n",
    "labels = [r'Ha trovato lavoro tramite un centro pubblico']\n",
    "colors = ['lightblue', 'gold']\n",
    "patches, texts = plt.pie(sizes, colors=colors, startangle=90, autopct='%1.0f%%')\n",
    "plt.legend(patches,title = labels, loc=\"center left\", bbox_to_anchor=(1, 0, 0.5, 1))\n",
    "# Set aspect ratio to be equal so that pie is drawn as a circle.\n",
    "plt.axis('equal')\n",
    "plt.tight_layout()\n",
    "plt.show()"
   ]
  },
  {
   "cell_type": "code",
   "execution_count": 156,
   "id": "3f30467b",
   "metadata": {},
   "outputs": [
    {
     "data": {
      "text/plain": [
       "Text(0.5, 1.0, '[\"Ha trovato questo lavoro tramite un centro pubblico per l\\'impiego\"]')"
      ]
     },
     "execution_count": 156,
     "metadata": {},
     "output_type": "execute_result"
    },
    {
     "data": {
      "image/png": "[encoded data removed]",
      "text/plain": [
       "<Figure size 432x288 with 1 Axes>"
      ]
     },
     "metadata": {},
     "output_type": "display_data"
    }
   ],
   "source": [
    "plt.pie(a, radius = 5, autopct='%1.0f%%')\n",
    "plt.title(label= modalità)"
   ]
  },
  {
   "cell_type": "code",
   "execution_count": 52,
   "id": "49b76740",
   "metadata": {},
   "outputs": [
    {
     "data": {
      "text/plain": [
       "(array([ 931., 4519., 1667., 3299., 3507.,  334.,  835.,  242.,  741.,\n",
       "        3194., 3471.,  203.,   75.]),\n",
       " 23018.0)"
      ]
     },
     "execution_count": 52,
     "metadata": {},
     "output_type": "execute_result"
    }
   ],
   "source": [
    "a = df[df.C59AB != '   ']\n",
    "a = round(a.groupby(by=['C59AB'])['COEFMI'].sum()/10000)\n",
    "a = np.array(a)\n",
    "a, np.sum(a)"
   ]
  },
  {
   "cell_type": "code",
   "execution_count": 53,
   "id": "eaa5f356",
   "metadata": {},
   "outputs": [],
   "source": [
    "modalità = ['Annunci',\n",
    "'Si è rivolto direttamente all\\'azienda',\n",
    "'Contattato dall\\'azienda',\n",
    "'Attraverso familiari',\n",
    "'Attraverso amici o conoscenti, colleghi o ex colleghi',\n",
    "'Concorso pubblico',\n",
    "'Centro pubblico per l\\'impiego',\n",
    "'Agenzia di somministrazione',\n",
    "'Scuola o ente di formazione',\n",
    "'Stage o precedenti esperienze lavorative',\n",
    "'Inizio di un\\'attività autonoma',\n",
    "'Altro metodo (specificare)',\n",
    "'Non sa']"
   ]
  },
  {
   "cell_type": "code",
   "execution_count": 74,
   "id": "d777a20d",
   "metadata": {},
   "outputs": [
    {
     "data": {
      "text/plain": [
       "<matplotlib.legend.Legend at 0x2b28e32cee0>"
      ]
     },
     "execution_count": 74,
     "metadata": {},
     "output_type": "execute_result"
    },
    {
     "data": {
      "image/png": "[encoded data removed]",
      "text/plain": [
       "<Figure size 432x288 with 1 Axes>"
      ]
     },
     "metadata": {},
     "output_type": "display_data"
    }
   ],
   "source": [
    "plt.pie(a, radius = 2, autopct='%1.1f%%')\n",
    "plt.legend(labels = modalità, loc = 'right', bbox_to_anchor=(-0.5, +0.4), ncol=1)"
   ]
  },
  {
   "cell_type": "code",
   "execution_count": 82,
   "id": "4b504eeb",
   "metadata": {},
   "outputs": [
    {
     "data": {
      "text/plain": [
       "Text(0.5, 0, 'Percentuale')"
      ]
     },
     "execution_count": 82,
     "metadata": {},
     "output_type": "execute_result"
    },
    {
     "data": {
      "image/png": "[encoded data removed]",
      "text/plain": [
       "<Figure size 432x288 with 1 Axes>"
      ]
     },
     "metadata": {
      "needs_background": "light"
     },
     "output_type": "display_data"
    }
   ],
   "source": [
    "impiego = zip(modalità, list(a))\n",
    "impiego_df = pd.DataFrame(impiego, columns=['Modalità', 'Totale'])\n",
    "impiego_df\n",
    "\n",
    "impiego_df['Percentuale'] = (impiego_df['Totale'] / np.sum(list(impiego_df['Totale']))) * 100\n",
    "\n",
    "sns.barplot(data = impiego_df, x = 'Percentuale', y = 'Modalità', color='red', orient='h',\n",
    "    order = impiego_df.groupby('Modalità')['Totale'].sum().sort_values(ascending=False).index.values\n",
    "    ).set_title('Mezzo utilizzato per trovare l\\'attuale impiego in percentuale')\n",
    "plt.xticks(rotation=85)\n",
    "plt.xlabel('Percentuale')\n"
   ]
  },
  {
   "cell_type": "code",
   "execution_count": 87,
   "id": "01b87ad3",
   "metadata": {},
   "outputs": [
    {
     "data": {
      "text/plain": [
       "Text(0.5, 0, 'Percentuale')"
      ]
     },
     "execution_count": 87,
     "metadata": {},
     "output_type": "execute_result"
    },
    {
     "data": {
      "image/png": "[encoded data removed]",
      "text/plain": [
       "<Figure size 432x288 with 1 Axes>"
      ]
     },
     "metadata": {
      "needs_background": "light"
     },
     "output_type": "display_data"
    }
   ],
   "source": [
    "a = df[df.C59AB != '   ']\n",
    "a = a[a.RIP5 == 4]\n",
    "a = round(a.groupby(by=['C59AB'])['COEFMI'].sum()/10000)\n",
    "a = np.array(a)\n",
    "a, np.sum(a)\n",
    "\n",
    "\n",
    "modalità = ['Annunci',\n",
    "'Si è rivolto direttamente all\\'azienda',\n",
    "'Contattato dall\\'azienda',\n",
    "'Attraverso familiari',\n",
    "'Attraverso amici o conoscenti, colleghi o ex colleghi',\n",
    "'Concorso pubblico',\n",
    "'Struttura di intermediazione pubblica',\n",
    "'Agenzia di somministrazione',\n",
    "'Scuola o ente di formazione',\n",
    "'Stage o precedenti esperienze lavorative',\n",
    "'Inizio di un\\'attività autonoma',\n",
    "'Altro metodo (specificare)',\n",
    "'Non sa']\n",
    "\n",
    "impiego = zip(modalità, list(a))\n",
    "impiego_df = pd.DataFrame(impiego, columns=['Modalità', 'Totale'])\n",
    "impiego_df\n",
    "\n",
    "impiego_df['Percentuale'] = (impiego_df['Totale'] / np.sum(list(impiego_df['Totale']))) * 100\n",
    "\n",
    "sns.barplot(data = impiego_df, x = 'Percentuale', y = 'Modalità', color='red', orient='h',\n",
    "    order = impiego_df.groupby('Modalità')['Totale'].sum().sort_values(ascending=False).index.values\n",
    "    ).set_title('Mezzo utilizzato per trovare l\\'attuale impiego in percentuale - Sud')\n",
    "plt.xticks(rotation=85)\n",
    "plt.xlabel('Percentuale')\n",
    "\n"
   ]
  },
  {
   "cell_type": "code",
   "execution_count": 86,
   "id": "0765095a",
   "metadata": {},
   "outputs": [
    {
     "data": {
      "text/plain": [
       "Text(0.5, 0, 'Percentuale')"
      ]
     },
     "execution_count": 86,
     "metadata": {},
     "output_type": "execute_result"
    },
    {
     "data": {
      "image/png": "[encoded data removed]",
      "text/plain": [
       "<Figure size 432x288 with 1 Axes>"
      ]
     },
     "metadata": {
      "needs_background": "light"
     },
     "output_type": "display_data"
    }
   ],
   "source": [
    "a = df[df.C59AB != '   ']\n",
    "a = a[a.RIP5 == 5]\n",
    "a = round(a.groupby(by=['C59AB'])['COEFMI'].sum()/10000)\n",
    "a = np.array(a)\n",
    "a, np.sum(a)\n",
    "\n",
    "\n",
    "modalità = ['Annunci',\n",
    "'Si è rivolto direttamente all\\'azienda',\n",
    "'Contattato dall\\'azienda',\n",
    "'Attraverso familiari',\n",
    "'Attraverso amici o conoscenti, colleghi o ex colleghi',\n",
    "'Concorso pubblico',\n",
    "'Struttura di intermediazione pubblica',\n",
    "'Agenzia di somministrazione',\n",
    "'Scuola o ente di formazione',\n",
    "'Stage o precedenti esperienze lavorative',\n",
    "'Inizio di un\\'attività autonoma',\n",
    "'Altro metodo (specificare)',\n",
    "'Non sa']\n",
    "\n",
    "impiego = zip(modalità, list(a))\n",
    "impiego_df = pd.DataFrame(impiego, columns=['Modalità', 'Totale'])\n",
    "impiego_df\n",
    "\n",
    "impiego_df['Percentuale'] = (impiego_df['Totale'] / np.sum(list(impiego_df['Totale']))) * 100\n",
    "\n",
    "sns.barplot(data = impiego_df, x = 'Percentuale', y = 'Modalità', color='red', orient='h',\n",
    "    order = impiego_df.groupby('Modalità')['Totale'].sum().sort_values(ascending=False).index.values\n",
    "    ).set_title('Mezzo utilizzato per trovare l\\'attuale impiego in percentuale - Isole')\n",
    "plt.xticks(rotation=85)\n",
    "plt.xlabel('Percentuale')\n"
   ]
  },
  {
   "cell_type": "markdown",
   "id": "fd2c9b91",
   "metadata": {},
   "source": [
    "## Analisi soddisfazione lavoro attuale "
   ]
  },
  {
   "cell_type": "code",
   "execution_count": 42,
   "id": "55644fa7",
   "metadata": {},
   "outputs": [
    {
     "name": "stdout",
     "output_type": "stream",
     "text": [
      "C73\n",
      "0      234.0\n",
      "1       63.0\n",
      "2      117.0\n",
      "3      172.0\n",
      "4      326.0\n",
      "5     1095.0\n",
      "6     2653.0\n",
      "7     4983.0\n",
      "8     7313.0\n",
      "9     2790.0\n",
      "10    3307.0\n",
      "Name: COEFMI, dtype: float64\n"
     ]
    },
    {
     "data": {
      "text/html": [
       "<div>\n",
       "<style scoped>\n",
       "    .dataframe tbody tr th:only-of-type {\n",
       "        vertical-align: middle;\n",
       "    }\n",
       "\n",
       "    .dataframe tbody tr th {\n",
       "        vertical-align: top;\n",
       "    }\n",
       "\n",
       "    .dataframe thead th {\n",
       "        text-align: right;\n",
       "    }\n",
       "</style>\n",
       "<table border=\"1\" class=\"dataframe\">\n",
       "  <thead>\n",
       "    <tr style=\"text-align: right;\">\n",
       "      <th></th>\n",
       "      <th>Punteggio</th>\n",
       "      <th>Totale</th>\n",
       "      <th>Percentuale</th>\n",
       "    </tr>\n",
       "  </thead>\n",
       "  <tbody>\n",
       "    <tr>\n",
       "      <th>0</th>\n",
       "      <td>0</td>\n",
       "      <td>234.0</td>\n",
       "      <td>1.015052</td>\n",
       "    </tr>\n",
       "    <tr>\n",
       "      <th>1</th>\n",
       "      <td>1</td>\n",
       "      <td>63.0</td>\n",
       "      <td>0.273283</td>\n",
       "    </tr>\n",
       "    <tr>\n",
       "      <th>2</th>\n",
       "      <td>2</td>\n",
       "      <td>117.0</td>\n",
       "      <td>0.507526</td>\n",
       "    </tr>\n",
       "    <tr>\n",
       "      <th>3</th>\n",
       "      <td>3</td>\n",
       "      <td>172.0</td>\n",
       "      <td>0.746107</td>\n",
       "    </tr>\n",
       "    <tr>\n",
       "      <th>4</th>\n",
       "      <td>4</td>\n",
       "      <td>326.0</td>\n",
       "      <td>1.414133</td>\n",
       "    </tr>\n",
       "    <tr>\n",
       "      <th>5</th>\n",
       "      <td>5</td>\n",
       "      <td>1095.0</td>\n",
       "      <td>4.749924</td>\n",
       "    </tr>\n",
       "    <tr>\n",
       "      <th>6</th>\n",
       "      <td>6</td>\n",
       "      <td>2653.0</td>\n",
       "      <td>11.508264</td>\n",
       "    </tr>\n",
       "    <tr>\n",
       "      <th>7</th>\n",
       "      <td>7</td>\n",
       "      <td>4983.0</td>\n",
       "      <td>21.615408</td>\n",
       "    </tr>\n",
       "    <tr>\n",
       "      <th>8</th>\n",
       "      <td>8</td>\n",
       "      <td>7313.0</td>\n",
       "      <td>31.722552</td>\n",
       "    </tr>\n",
       "    <tr>\n",
       "      <th>9</th>\n",
       "      <td>9</td>\n",
       "      <td>2790.0</td>\n",
       "      <td>12.102546</td>\n",
       "    </tr>\n",
       "    <tr>\n",
       "      <th>10</th>\n",
       "      <td>10</td>\n",
       "      <td>3307.0</td>\n",
       "      <td>14.345205</td>\n",
       "    </tr>\n",
       "  </tbody>\n",
       "</table>\n",
       "</div>"
      ],
      "text/plain": [
       "    Punteggio  Totale  Percentuale\n",
       "0           0   234.0     1.015052\n",
       "1           1    63.0     0.273283\n",
       "2           2   117.0     0.507526\n",
       "3           3   172.0     0.746107\n",
       "4           4   326.0     1.414133\n",
       "5           5  1095.0     4.749924\n",
       "6           6  2653.0    11.508264\n",
       "7           7  4983.0    21.615408\n",
       "8           8  7313.0    31.722552\n",
       "9           9  2790.0    12.102546\n",
       "10         10  3307.0    14.345205"
      ]
     },
     "execution_count": 42,
     "metadata": {},
     "output_type": "execute_result"
    }
   ],
   "source": [
    "a = df[(df.C73 != '   ') & (df.C73 != 997) & (df.C73 != 996)]\n",
    "\n",
    "a = round(a.groupby(by=['C73'])['COEFMI'].sum()/10000)\n",
    "print(a)\n",
    "\n",
    "soddisf = zip(a.keys(), list(a))\n",
    "soddisf = pd.DataFrame(soddisf, columns=['Punteggio', 'Totale'])\n",
    "soddisf\n",
    "\n",
    "soddisf['Percentuale'] = (soddisf['Totale'] / np.sum(list(soddisf['Totale']))) * 100\n",
    "soddisf"
   ]
  },
  {
   "cell_type": "code",
   "execution_count": 43,
   "id": "c3eb10df",
   "metadata": {},
   "outputs": [
    {
     "data": {
      "text/plain": [
       "Text(0, 0.5, 'Totale')"
      ]
     },
     "execution_count": 43,
     "metadata": {},
     "output_type": "execute_result"
    },
    {
     "data": {
      "image/png": "[encoded data removed]",
      "text/plain": [
       "<Figure size 432x288 with 1 Axes>"
      ]
     },
     "metadata": {
      "needs_background": "light"
     },
     "output_type": "display_data"
    }
   ],
   "source": [
    "sns.barplot(data = soddisf, x = 'Punteggio', y = 'Percentuale', color='red', \n",
    "    ).set_title('Soddisfazione riguardo l\\'attuale impiego')\n",
    "plt.xlabel('Punteggio')\n",
    "plt.ylabel('Totale')"
   ]
  },
  {
   "cell_type": "code",
   "execution_count": 47,
   "id": "02856ae3",
   "metadata": {},
   "outputs": [
    {
     "name": "stdout",
     "output_type": "stream",
     "text": [
      "C73\n",
      "0       53.0\n",
      "1        7.0\n",
      "2       21.0\n",
      "3       27.0\n",
      "4       64.0\n",
      "5      233.0\n",
      "6      745.0\n",
      "7      809.0\n",
      "8     1203.0\n",
      "9      348.0\n",
      "10     583.0\n",
      "Name: COEFMI, dtype: float64\n"
     ]
    },
    {
     "data": {
      "text/plain": [
       "Text(0, 0.5, 'Totale')"
      ]
     },
     "execution_count": 47,
     "metadata": {},
     "output_type": "execute_result"
    },
    {
     "data": {
      "image/png": "[encoded data removed]",
      "text/plain": [
       "<Figure size 432x288 with 1 Axes>"
      ]
     },
     "metadata": {
      "needs_background": "light"
     },
     "output_type": "display_data"
    }
   ],
   "source": [
    "a = df[(df.C73 != '   ') & (df.C73 != 997) & (df.C73 != 996)]\n",
    "\n",
    "a = a[a.RIP5 == 4]\n",
    "\n",
    "a = round(a.groupby(by=['C73'])['COEFMI'].sum()/10000)\n",
    "print(a)\n",
    "\n",
    "soddisf = zip(a.keys(), list(a))\n",
    "soddisf = pd.DataFrame(soddisf, columns=['Punteggio', 'Totale'])\n",
    "soddisf['Percentuale'] = (soddisf['Totale'] / np.sum(list(soddisf['Totale']))) * 100\n",
    "soddisf\n",
    "\n",
    "sns.barplot(data = soddisf, x = 'Punteggio', y = 'Percentuale', color='red', \n",
    "    ).set_title('Soddisfazione riguardo l\\'attuale impiego - Sud')\n",
    "plt.xlabel('Punteggio')\n",
    "plt.ylabel('Totale')"
   ]
  },
  {
   "cell_type": "code",
   "execution_count": 48,
   "id": "aaa393b7",
   "metadata": {},
   "outputs": [
    {
     "name": "stdout",
     "output_type": "stream",
     "text": [
      "C73\n",
      "0      21.0\n",
      "1       7.0\n",
      "2      12.0\n",
      "3      20.0\n",
      "4      22.0\n",
      "5      87.0\n",
      "6     309.0\n",
      "7     409.0\n",
      "8     544.0\n",
      "9     194.0\n",
      "10    274.0\n",
      "Name: COEFMI, dtype: float64\n"
     ]
    },
    {
     "data": {
      "text/plain": [
       "Text(0, 0.5, 'Totale')"
      ]
     },
     "execution_count": 48,
     "metadata": {},
     "output_type": "execute_result"
    },
    {
     "data": {
      "image/png": "[encoded data removed]",
      "text/plain": [
       "<Figure size 432x288 with 1 Axes>"
      ]
     },
     "metadata": {
      "needs_background": "light"
     },
     "output_type": "display_data"
    }
   ],
   "source": [
    "a = df[(df.C73 != '   ') & (df.C73 != 997) & (df.C73 != 996)]\n",
    "\n",
    "a = a[a.RIP5 == 5]\n",
    "\n",
    "a = round(a.groupby(by=['C73'])['COEFMI'].sum()/10000)\n",
    "print(a)\n",
    "\n",
    "soddisf = zip(a.keys(), list(a))\n",
    "soddisf = pd.DataFrame(soddisf, columns=['Punteggio', 'Totale'])\n",
    "soddisf['Percentuale'] = (soddisf['Totale'] / np.sum(list(soddisf['Totale']))) * 100\n",
    "soddisf\n",
    "\n",
    "sns.barplot(data = soddisf, x = 'Punteggio', y = 'Percentuale', color='red', \n",
    "    ).set_title('Soddisfazione riguardo l\\'attuale impiego - Isole')\n",
    "plt.xlabel('Punteggio')\n",
    "plt.ylabel('Totale')"
   ]
  },
  {
   "cell_type": "markdown",
   "id": "c5141e0a",
   "metadata": {},
   "source": [
    "## Analisi soddisfazione attuale rispetto al guadagno"
   ]
  },
  {
   "cell_type": "code",
   "execution_count": 187,
   "id": "88966338",
   "metadata": {},
   "outputs": [
    {
     "name": "stdout",
     "output_type": "stream",
     "text": [
      "C74\n",
      "0      355.0\n",
      "1      122.0\n",
      "2      312.0\n",
      "3      436.0\n",
      "4      961.0\n",
      "5     2397.0\n",
      "6     4776.0\n",
      "7     5807.0\n",
      "8     4946.0\n",
      "9     1522.0\n",
      "10    1373.0\n",
      "Name: COEFMI, dtype: float64\n"
     ]
    },
    {
     "data": {
      "text/html": [
       "<div>\n",
       "<style scoped>\n",
       "    .dataframe tbody tr th:only-of-type {\n",
       "        vertical-align: middle;\n",
       "    }\n",
       "\n",
       "    .dataframe tbody tr th {\n",
       "        vertical-align: top;\n",
       "    }\n",
       "\n",
       "    .dataframe thead th {\n",
       "        text-align: right;\n",
       "    }\n",
       "</style>\n",
       "<table border=\"1\" class=\"dataframe\">\n",
       "  <thead>\n",
       "    <tr style=\"text-align: right;\">\n",
       "      <th></th>\n",
       "      <th>Punteggio</th>\n",
       "      <th>Totale</th>\n",
       "      <th>Percentuale</th>\n",
       "    </tr>\n",
       "  </thead>\n",
       "  <tbody>\n",
       "    <tr>\n",
       "      <th>0</th>\n",
       "      <td>0</td>\n",
       "      <td>355.0</td>\n",
       "      <td>1.543009</td>\n",
       "    </tr>\n",
       "    <tr>\n",
       "      <th>1</th>\n",
       "      <td>1</td>\n",
       "      <td>122.0</td>\n",
       "      <td>0.530273</td>\n",
       "    </tr>\n",
       "    <tr>\n",
       "      <th>2</th>\n",
       "      <td>2</td>\n",
       "      <td>312.0</td>\n",
       "      <td>1.356109</td>\n",
       "    </tr>\n",
       "    <tr>\n",
       "      <th>3</th>\n",
       "      <td>3</td>\n",
       "      <td>436.0</td>\n",
       "      <td>1.895075</td>\n",
       "    </tr>\n",
       "    <tr>\n",
       "      <th>4</th>\n",
       "      <td>4</td>\n",
       "      <td>961.0</td>\n",
       "      <td>4.176990</td>\n",
       "    </tr>\n",
       "    <tr>\n",
       "      <th>5</th>\n",
       "      <td>5</td>\n",
       "      <td>2397.0</td>\n",
       "      <td>10.418568</td>\n",
       "    </tr>\n",
       "    <tr>\n",
       "      <th>6</th>\n",
       "      <td>6</td>\n",
       "      <td>4776.0</td>\n",
       "      <td>20.758899</td>\n",
       "    </tr>\n",
       "    <tr>\n",
       "      <th>7</th>\n",
       "      <td>7</td>\n",
       "      <td>5807.0</td>\n",
       "      <td>25.240144</td>\n",
       "    </tr>\n",
       "    <tr>\n",
       "      <th>8</th>\n",
       "      <td>8</td>\n",
       "      <td>4946.0</td>\n",
       "      <td>21.497805</td>\n",
       "    </tr>\n",
       "    <tr>\n",
       "      <th>9</th>\n",
       "      <td>9</td>\n",
       "      <td>1522.0</td>\n",
       "      <td>6.615378</td>\n",
       "    </tr>\n",
       "    <tr>\n",
       "      <th>10</th>\n",
       "      <td>10</td>\n",
       "      <td>1373.0</td>\n",
       "      <td>5.967749</td>\n",
       "    </tr>\n",
       "  </tbody>\n",
       "</table>\n",
       "</div>"
      ],
      "text/plain": [
       "    Punteggio  Totale  Percentuale\n",
       "0           0   355.0     1.543009\n",
       "1           1   122.0     0.530273\n",
       "2           2   312.0     1.356109\n",
       "3           3   436.0     1.895075\n",
       "4           4   961.0     4.176990\n",
       "5           5  2397.0    10.418568\n",
       "6           6  4776.0    20.758899\n",
       "7           7  5807.0    25.240144\n",
       "8           8  4946.0    21.497805\n",
       "9           9  1522.0     6.615378\n",
       "10         10  1373.0     5.967749"
      ]
     },
     "execution_count": 187,
     "metadata": {},
     "output_type": "execute_result"
    }
   ],
   "source": [
    "a = df[(df.C74 != '   ') & (df.C74 != 997) & (df.C74 != 996)]\n",
    "\n",
    "a = round(a.groupby(by=['C74'])['COEFMI'].sum()/10000)\n",
    "print(a)\n",
    "\n",
    "soddisf = zip(a.keys(), list(a))\n",
    "soddisf = pd.DataFrame(soddisf, columns=['Punteggio', 'Totale'])\n",
    "soddisf\n",
    "\n",
    "soddisf['Percentuale'] = (soddisf['Totale'] / np.sum(list(soddisf['Totale']))) * 100\n",
    "soddisf"
   ]
  },
  {
   "cell_type": "code",
   "execution_count": 188,
   "id": "c49fe8a2",
   "metadata": {},
   "outputs": [
    {
     "name": "stdout",
     "output_type": "stream",
     "text": [
      "C74\n",
      "0       66.0\n",
      "1       22.0\n",
      "2       57.0\n",
      "3       80.0\n",
      "4      212.0\n",
      "5      475.0\n",
      "6     1009.0\n",
      "7     1008.0\n",
      "8      740.0\n",
      "9      176.0\n",
      "10     241.0\n",
      "Name: COEFMI, dtype: float64\n"
     ]
    },
    {
     "data": {
      "text/plain": [
       "Text(0, 0.5, 'Totale')"
      ]
     },
     "execution_count": 188,
     "metadata": {},
     "output_type": "execute_result"
    },
    {
     "data": {
      "image/png": "[encoded data removed]",
      "text/plain": [
       "<Figure size 432x288 with 1 Axes>"
      ]
     },
     "metadata": {
      "needs_background": "light"
     },
     "output_type": "display_data"
    }
   ],
   "source": [
    "a = df[(df.C74 != '   ') & (df.C74 != 997) & (df.C74 != 996)]\n",
    "\n",
    "a = a[a.RIP5 == 4]\n",
    "\n",
    "a = round(a.groupby(by=['C74'])['COEFMI'].sum()/10000)\n",
    "print(a)\n",
    "\n",
    "soddisf = zip(a.keys(), list(a))\n",
    "soddisf = pd.DataFrame(soddisf, columns=['Punteggio', 'Totale'])\n",
    "soddisf['Percentuale'] = (soddisf['Totale'] / np.sum(list(soddisf['Totale']))) * 100\n",
    "soddisf\n",
    "\n",
    "sns.barplot(data = soddisf, x = 'Punteggio', y = 'Percentuale', color='red', \n",
    "    ).set_title('Soddisfazione riguardo l\\'attuale impiego rispetto al guadagno - Sud')\n",
    "plt.xlabel('Punteggio')\n",
    "plt.ylabel('Totale')"
   ]
  },
  {
   "cell_type": "code",
   "execution_count": 189,
   "id": "3d47d0e3",
   "metadata": {},
   "outputs": [
    {
     "name": "stdout",
     "output_type": "stream",
     "text": [
      "C74\n",
      "0      33.0\n",
      "1      13.0\n",
      "2      28.0\n",
      "3      30.0\n",
      "4      89.0\n",
      "5     211.0\n",
      "6     515.0\n",
      "7     410.0\n",
      "8     360.0\n",
      "9      97.0\n",
      "10    109.0\n",
      "Name: COEFMI, dtype: float64\n"
     ]
    },
    {
     "data": {
      "text/plain": [
       "Text(0, 0.5, 'Totale')"
      ]
     },
     "execution_count": 189,
     "metadata": {},
     "output_type": "execute_result"
    },
    {
     "data": {
      "image/png": "[encoded data removed]",
      "text/plain": [
       "<Figure size 432x288 with 1 Axes>"
      ]
     },
     "metadata": {
      "needs_background": "light"
     },
     "output_type": "display_data"
    }
   ],
   "source": [
    "a = df[(df.C74 != '   ') & (df.C74 != 997) & (df.C74 != 996)]\n",
    "\n",
    "a = a[a.RIP5 == 5]\n",
    "\n",
    "a = round(a.groupby(by=['C74'])['COEFMI'].sum()/10000)\n",
    "print(a)\n",
    "\n",
    "soddisf = zip(a.keys(), list(a))\n",
    "soddisf = pd.DataFrame(soddisf, columns=['Punteggio', 'Totale'])\n",
    "soddisf['Percentuale'] = (soddisf['Totale'] / np.sum(list(soddisf['Totale']))) * 100\n",
    "soddisf\n",
    "\n",
    "sns.barplot(data = soddisf, x = 'Punteggio', y = 'Percentuale', color='red', \n",
    "    ).set_title('Soddisfazione riguardo l\\'attuale impiego rispetto al guadagno - Isole')\n",
    "plt.xlabel('Punteggio')\n",
    "plt.ylabel('Totale')"
   ]
  }
 ],
 "metadata": {
  "kernelspec": {
   "display_name": "Python 3",
   "language": "python",
   "name": "python3"
  },
  "language_info": {
   "codemirror_mode": {
    "name": "ipython",
    "version": 3
   },
   "file_extension": ".py",
   "mimetype": "text/x-python",
   "name": "python",
   "nbconvert_exporter": "python",
   "pygments_lexer": "ipython3",
   "version": "3.8.8"
  }
 },
 "nbformat": 4,
 "nbformat_minor": 5
}
